{
  "cells": [
    {
      "cell_type": "markdown",
      "id": "d7ad45a4",
      "metadata": {
        "papermill": {
          "duration": 0.008066,
          "end_time": "2024-02-03T23:34:16.031450",
          "exception": false,
          "start_time": "2024-02-03T23:34:16.023384",
          "status": "completed"
        },
        "tags": [],
        "id": "d7ad45a4"
      },
      "source": [
        "# Predicting india's CO2 Emissions from Solid Fuel Consumption Using Climate Change Indicators."
      ]
    },
    {
      "cell_type": "markdown",
      "id": "baddb388",
      "metadata": {
        "papermill": {
          "duration": 0.007439,
          "end_time": "2024-02-03T23:34:16.151758",
          "exception": false,
          "start_time": "2024-02-03T23:34:16.144319",
          "status": "completed"
        },
        "tags": [],
        "id": "baddb388"
      },
      "source": [
        "<p>The dataset, sourced from The Humanitarian Data Exchange (HDX), spans from 1960 to 2021, encompassing diverse climate change indicators in India. With 77 columns initially, the dataset was refined to 25 columns, focusing on data spanning at least 45 years. These indicators include agricultural land percentage, CO2 emissions, renewable energy consumption, and more. The comprehensive dataset serves as a valuable resource for conducting in-depth analyses and training deep learning models to predict CO2 emissions based on fuel consumption .</p>"
      ]
    },
    {
      "cell_type": "code",
      "source": [
        "!pip install dash"
      ],
      "metadata": {
        "colab": {
          "base_uri": "https://localhost:8080/"
        },
        "id": "sFqQj-8KnTmb",
        "outputId": "1889ffef-582b-46a8-fd61-c781a985d759",
        "collapsed": true
      },
      "id": "sFqQj-8KnTmb",
      "execution_count": null,
      "outputs": [
        {
          "output_type": "stream",
          "name": "stdout",
          "text": [
            "Collecting dash\n",
            "  Downloading dash-2.18.1-py3-none-any.whl.metadata (10 kB)\n",
            "Requirement already satisfied: Flask<3.1,>=1.0.4 in /usr/local/lib/python3.10/dist-packages (from dash) (2.2.5)\n",
            "Requirement already satisfied: Werkzeug<3.1 in /usr/local/lib/python3.10/dist-packages (from dash) (3.0.4)\n",
            "Requirement already satisfied: plotly>=5.0.0 in /usr/local/lib/python3.10/dist-packages (from dash) (5.24.1)\n",
            "Collecting dash-html-components==2.0.0 (from dash)\n",
            "  Downloading dash_html_components-2.0.0-py3-none-any.whl.metadata (3.8 kB)\n",
            "Collecting dash-core-components==2.0.0 (from dash)\n",
            "  Downloading dash_core_components-2.0.0-py3-none-any.whl.metadata (2.9 kB)\n",
            "Collecting dash-table==5.0.0 (from dash)\n",
            "  Downloading dash_table-5.0.0-py3-none-any.whl.metadata (2.4 kB)\n",
            "Requirement already satisfied: importlib-metadata in /usr/local/lib/python3.10/dist-packages (from dash) (8.5.0)\n",
            "Requirement already satisfied: typing-extensions>=4.1.1 in /usr/local/lib/python3.10/dist-packages (from dash) (4.12.2)\n",
            "Requirement already satisfied: requests in /usr/local/lib/python3.10/dist-packages (from dash) (2.32.3)\n",
            "Collecting retrying (from dash)\n",
            "  Downloading retrying-1.3.4-py3-none-any.whl.metadata (6.9 kB)\n",
            "Requirement already satisfied: nest-asyncio in /usr/local/lib/python3.10/dist-packages (from dash) (1.6.0)\n",
            "Requirement already satisfied: setuptools in /usr/local/lib/python3.10/dist-packages (from dash) (71.0.4)\n",
            "Requirement already satisfied: Jinja2>=3.0 in /usr/local/lib/python3.10/dist-packages (from Flask<3.1,>=1.0.4->dash) (3.1.4)\n",
            "Requirement already satisfied: itsdangerous>=2.0 in /usr/local/lib/python3.10/dist-packages (from Flask<3.1,>=1.0.4->dash) (2.2.0)\n",
            "Requirement already satisfied: click>=8.0 in /usr/local/lib/python3.10/dist-packages (from Flask<3.1,>=1.0.4->dash) (8.1.7)\n",
            "Requirement already satisfied: tenacity>=6.2.0 in /usr/local/lib/python3.10/dist-packages (from plotly>=5.0.0->dash) (9.0.0)\n",
            "Requirement already satisfied: packaging in /usr/local/lib/python3.10/dist-packages (from plotly>=5.0.0->dash) (24.1)\n",
            "Requirement already satisfied: MarkupSafe>=2.1.1 in /usr/local/lib/python3.10/dist-packages (from Werkzeug<3.1->dash) (2.1.5)\n",
            "Requirement already satisfied: zipp>=3.20 in /usr/local/lib/python3.10/dist-packages (from importlib-metadata->dash) (3.20.2)\n",
            "Requirement already satisfied: charset-normalizer<4,>=2 in /usr/local/lib/python3.10/dist-packages (from requests->dash) (3.3.2)\n",
            "Requirement already satisfied: idna<4,>=2.5 in /usr/local/lib/python3.10/dist-packages (from requests->dash) (3.10)\n",
            "Requirement already satisfied: urllib3<3,>=1.21.1 in /usr/local/lib/python3.10/dist-packages (from requests->dash) (2.2.3)\n",
            "Requirement already satisfied: certifi>=2017.4.17 in /usr/local/lib/python3.10/dist-packages (from requests->dash) (2024.8.30)\n",
            "Requirement already satisfied: six>=1.7.0 in /usr/local/lib/python3.10/dist-packages (from retrying->dash) (1.16.0)\n",
            "Downloading dash-2.18.1-py3-none-any.whl (7.5 MB)\n",
            "\u001b[2K   \u001b[90m━━━━━━━━━━━━━━━━━━━━━━━━━━━━━━━━━━━━━━━━\u001b[0m \u001b[32m7.5/7.5 MB\u001b[0m \u001b[31m46.4 MB/s\u001b[0m eta \u001b[36m0:00:00\u001b[0m\n",
            "\u001b[?25hDownloading dash_core_components-2.0.0-py3-none-any.whl (3.8 kB)\n",
            "Downloading dash_html_components-2.0.0-py3-none-any.whl (4.1 kB)\n",
            "Downloading dash_table-5.0.0-py3-none-any.whl (3.9 kB)\n",
            "Downloading retrying-1.3.4-py3-none-any.whl (11 kB)\n",
            "Installing collected packages: dash-table, dash-html-components, dash-core-components, retrying, dash\n",
            "Successfully installed dash-2.18.1 dash-core-components-2.0.0 dash-html-components-2.0.0 dash-table-5.0.0 retrying-1.3.4\n"
          ]
        }
      ]
    },
    {
      "cell_type": "markdown",
      "id": "d0a10698",
      "metadata": {
        "papermill": {
          "duration": 0.007398,
          "end_time": "2024-02-03T23:34:16.166570",
          "exception": false,
          "start_time": "2024-02-03T23:34:16.159172",
          "status": "completed"
        },
        "tags": [],
        "id": "d0a10698"
      },
      "source": [
        "# Importing necessary libraries."
      ]
    },
    {
      "cell_type": "code",
      "execution_count": null,
      "id": "66bcd9a7",
      "metadata": {
        "execution": {
          "iopub.execute_input": "2024-02-03T23:34:16.183034Z",
          "iopub.status.busy": "2024-02-03T23:34:16.182702Z",
          "iopub.status.idle": "2024-02-03T23:34:30.543875Z",
          "shell.execute_reply": "2024-02-03T23:34:30.542767Z"
        },
        "papermill": {
          "duration": 14.371997,
          "end_time": "2024-02-03T23:34:30.546034",
          "exception": false,
          "start_time": "2024-02-03T23:34:16.174037",
          "status": "completed"
        },
        "tags": [],
        "id": "66bcd9a7"
      },
      "outputs": [],
      "source": [
        "import pandas as pd\n",
        "import numpy as np\n",
        "import matplotlib.pyplot as plt\n",
        "import seaborn as sns\n",
        "from sklearn.model_selection import train_test_split\n",
        "from sklearn.preprocessing import StandardScaler\n",
        "from sklearn.metrics import r2_score, mean_absolute_error, mean_squared_error\n",
        "from sklearn.impute import SimpleImputer\n",
        "from sklearn.preprocessing import MinMaxScaler\n",
        "from keras.models import Sequential\n",
        "from keras.layers import Dense, Conv1D, MaxPooling1D, Flatten, LSTM\n",
        "from keras.optimizers import Adam\n",
        "from keras.layers import BatchNormalization\n",
        "from xgboost import XGBRegressor\n",
        "from sklearn.ensemble import RandomForestRegressor\n",
        "import torch\n",
        "import torch.nn as nn\n",
        "from torch.utils.data import TensorDataset, DataLoader\n",
        "import dash\n",
        "from dash import dcc, html\n",
        "from dash.dependencies import Input, Output\n",
        "import plotly.express as px\n",
        "from keras.callbacks import EarlyStopping\n",
        "\n"
      ]
    },
    {
      "cell_type": "markdown",
      "id": "0f2e1651",
      "metadata": {
        "papermill": {
          "duration": 0.007099,
          "end_time": "2024-02-03T23:34:30.560999",
          "exception": false,
          "start_time": "2024-02-03T23:34:30.553900",
          "status": "completed"
        },
        "tags": [],
        "id": "0f2e1651"
      },
      "source": [
        "# Loading Data and Converting into DataFrame."
      ]
    },
    {
      "cell_type": "code",
      "execution_count": null,
      "id": "493600fd",
      "metadata": {
        "execution": {
          "iopub.execute_input": "2024-02-03T23:34:30.607275Z",
          "iopub.status.busy": "2024-02-03T23:34:30.606917Z",
          "iopub.status.idle": "2024-02-03T23:34:30.624168Z",
          "shell.execute_reply": "2024-02-03T23:34:30.623445Z"
        },
        "papermill": {
          "duration": 0.027754,
          "end_time": "2024-02-03T23:34:30.625985",
          "exception": false,
          "start_time": "2024-02-03T23:34:30.598231",
          "status": "completed"
        },
        "tags": [],
        "id": "493600fd"
      },
      "outputs": [],
      "source": [
        "data = pd.read_csv('/content/climate_india.csv')"
      ]
    },
    {
      "cell_type": "code",
      "execution_count": null,
      "id": "fa6a3123",
      "metadata": {
        "execution": {
          "iopub.execute_input": "2024-02-03T23:34:30.642861Z",
          "iopub.status.busy": "2024-02-03T23:34:30.641971Z",
          "iopub.status.idle": "2024-02-03T23:34:30.646772Z",
          "shell.execute_reply": "2024-02-03T23:34:30.645949Z"
        },
        "papermill": {
          "duration": 0.014826,
          "end_time": "2024-02-03T23:34:30.648615",
          "exception": false,
          "start_time": "2024-02-03T23:34:30.633789",
          "status": "completed"
        },
        "tags": [],
        "id": "fa6a3123"
      },
      "outputs": [],
      "source": [
        "df = pd.DataFrame(data)"
      ]
    },
    {
      "cell_type": "code",
      "execution_count": null,
      "id": "840498c8",
      "metadata": {
        "execution": {
          "iopub.execute_input": "2024-02-03T23:34:30.664983Z",
          "iopub.status.busy": "2024-02-03T23:34:30.664639Z",
          "iopub.status.idle": "2024-02-03T23:34:30.697983Z",
          "shell.execute_reply": "2024-02-03T23:34:30.696995Z"
        },
        "papermill": {
          "duration": 0.043643,
          "end_time": "2024-02-03T23:34:30.699966",
          "exception": false,
          "start_time": "2024-02-03T23:34:30.656323",
          "status": "completed"
        },
        "tags": [],
        "colab": {
          "base_uri": "https://localhost:8080/",
          "height": 377
        },
        "id": "840498c8",
        "outputId": "5fa6aecd-3abe-4747-e615-f95deddd269c"
      },
      "outputs": [
        {
          "output_type": "execute_result",
          "data": {
            "text/plain": [
              "   sno country  year  Mortality rate, under-5 (per 1,000 live births)  \\\n",
              "0    1   India  1960                                            242.8   \n",
              "1    2   India  1961                                            239.3   \n",
              "2    3   India  1962                                            236.1   \n",
              "3    4   India  1963                                            233.2   \n",
              "4    5   India  1964                                            230.4   \n",
              "\n",
              "   Population growth (annual %)  \\\n",
              "0                           NaN   \n",
              "1                      2.905442   \n",
              "2                      3.337905   \n",
              "3                      3.330305   \n",
              "4                      3.328228   \n",
              "\n",
              "   Agriculture, forestry, and fishing, value added (% of GDP)  \\\n",
              "0                                          41.741335            \n",
              "1                                          41.092482            \n",
              "2                                          39.065969            \n",
              "3                                          39.825352            \n",
              "4                                          41.343717            \n",
              "\n",
              "   Population, total  \\\n",
              "0        445954579.0   \n",
              "1        456351876.0   \n",
              "2        467024193.0   \n",
              "3        477933619.0   \n",
              "4        489059309.0   \n",
              "\n",
              "   Population in urban agglomerations of more than 1 million (% of total population)  \\\n",
              "0                                           7.629440                                   \n",
              "1                                           7.707028                                   \n",
              "2                                           7.790802                                   \n",
              "3                                           7.876721                                   \n",
              "4                                           7.965645                                   \n",
              "\n",
              "   Total greenhouse gas emissions (kt of CO2 equivalent)  Urban population  \\\n",
              "0                                                NaN            79932899.0   \n",
              "1                                                NaN            82289370.0   \n",
              "2                                                NaN            85082467.0   \n",
              "3                                                NaN            87963683.0   \n",
              "4                                                NaN            90940579.0   \n",
              "\n",
              "   ...  CO2 emissions from liquid fuel consumption (% of total)  \\\n",
              "0  ...                                          16.139038         \n",
              "1  ...                                          16.354996         \n",
              "2  ...                                          17.360188         \n",
              "3  ...                                          17.606321         \n",
              "4  ...                                          18.682148         \n",
              "\n",
              "   CO2 intensity (kg per kg of oil equivalent energy use)  \\\n",
              "0                                                NaN        \n",
              "1                                                NaN        \n",
              "2                                                NaN        \n",
              "3                                                NaN        \n",
              "4                                                NaN        \n",
              "\n",
              "   Cereal yield (kg per hectare)  Agricultural land (% of land area)  \\\n",
              "0                            NaN                                 NaN   \n",
              "1                          947.3                           58.843195   \n",
              "2                          929.7                           59.357794   \n",
              "3                          965.8                           59.247475   \n",
              "4                          993.6                           59.435152   \n",
              "\n",
              "   Agricultural land (sq. km)  Arable land (% of land area)  \\\n",
              "0                         NaN                           NaN   \n",
              "1                   1749520.0                     52.403647   \n",
              "2                   1764820.0                     52.704334   \n",
              "3                   1761540.0                     52.963316   \n",
              "4                   1767120.0                     53.051436   \n",
              "\n",
              "   Foreign direct investment, net inflows (% of GDP)  \\\n",
              "0                                                NaN   \n",
              "1                                                NaN   \n",
              "2                                                NaN   \n",
              "3                                                NaN   \n",
              "4                                                NaN   \n",
              "\n",
              "   CO2 emissions from liquid fuel consumption (kt)  \\\n",
              "0                                        19460.769   \n",
              "1                                        21327.272   \n",
              "2                                        24906.264   \n",
              "3                                        27128.466   \n",
              "4                                        28144.225   \n",
              "\n",
              "   CO2 emissions from gaseous fuel consumption (kt)  \\\n",
              "0                                             0.000   \n",
              "1                                             3.667   \n",
              "2                                            11.001   \n",
              "3                                            11.001   \n",
              "4                                            22.002   \n",
              "\n",
              "   CO2 emissions from gaseous fuel consumption (% of total)  \n",
              "0                                           0.000000         \n",
              "1                                           0.002812         \n",
              "2                                           0.007668         \n",
              "3                                           0.007140         \n",
              "4                                           0.014605         \n",
              "\n",
              "[5 rows x 24 columns]"
            ],
            "text/html": [
              "\n",
              "  <div id=\"df-1d775b83-67b5-4ef9-8f95-5fcb005ceeb5\" class=\"colab-df-container\">\n",
              "    <div>\n",
              "<style scoped>\n",
              "    .dataframe tbody tr th:only-of-type {\n",
              "        vertical-align: middle;\n",
              "    }\n",
              "\n",
              "    .dataframe tbody tr th {\n",
              "        vertical-align: top;\n",
              "    }\n",
              "\n",
              "    .dataframe thead th {\n",
              "        text-align: right;\n",
              "    }\n",
              "</style>\n",
              "<table border=\"1\" class=\"dataframe\">\n",
              "  <thead>\n",
              "    <tr style=\"text-align: right;\">\n",
              "      <th></th>\n",
              "      <th>sno</th>\n",
              "      <th>country</th>\n",
              "      <th>year</th>\n",
              "      <th>Mortality rate, under-5 (per 1,000 live births)</th>\n",
              "      <th>Population growth (annual %)</th>\n",
              "      <th>Agriculture, forestry, and fishing, value added (% of GDP)</th>\n",
              "      <th>Population, total</th>\n",
              "      <th>Population in urban agglomerations of more than 1 million (% of total population)</th>\n",
              "      <th>Total greenhouse gas emissions (kt of CO2 equivalent)</th>\n",
              "      <th>Urban population</th>\n",
              "      <th>...</th>\n",
              "      <th>CO2 emissions from liquid fuel consumption (% of total)</th>\n",
              "      <th>CO2 intensity (kg per kg of oil equivalent energy use)</th>\n",
              "      <th>Cereal yield (kg per hectare)</th>\n",
              "      <th>Agricultural land (% of land area)</th>\n",
              "      <th>Agricultural land (sq. km)</th>\n",
              "      <th>Arable land (% of land area)</th>\n",
              "      <th>Foreign direct investment, net inflows (% of GDP)</th>\n",
              "      <th>CO2 emissions from liquid fuel consumption (kt)</th>\n",
              "      <th>CO2 emissions from gaseous fuel consumption (kt)</th>\n",
              "      <th>CO2 emissions from gaseous fuel consumption (% of total)</th>\n",
              "    </tr>\n",
              "  </thead>\n",
              "  <tbody>\n",
              "    <tr>\n",
              "      <th>0</th>\n",
              "      <td>1</td>\n",
              "      <td>India</td>\n",
              "      <td>1960</td>\n",
              "      <td>242.8</td>\n",
              "      <td>NaN</td>\n",
              "      <td>41.741335</td>\n",
              "      <td>445954579.0</td>\n",
              "      <td>7.629440</td>\n",
              "      <td>NaN</td>\n",
              "      <td>79932899.0</td>\n",
              "      <td>...</td>\n",
              "      <td>16.139038</td>\n",
              "      <td>NaN</td>\n",
              "      <td>NaN</td>\n",
              "      <td>NaN</td>\n",
              "      <td>NaN</td>\n",
              "      <td>NaN</td>\n",
              "      <td>NaN</td>\n",
              "      <td>19460.769</td>\n",
              "      <td>0.000</td>\n",
              "      <td>0.000000</td>\n",
              "    </tr>\n",
              "    <tr>\n",
              "      <th>1</th>\n",
              "      <td>2</td>\n",
              "      <td>India</td>\n",
              "      <td>1961</td>\n",
              "      <td>239.3</td>\n",
              "      <td>2.905442</td>\n",
              "      <td>41.092482</td>\n",
              "      <td>456351876.0</td>\n",
              "      <td>7.707028</td>\n",
              "      <td>NaN</td>\n",
              "      <td>82289370.0</td>\n",
              "      <td>...</td>\n",
              "      <td>16.354996</td>\n",
              "      <td>NaN</td>\n",
              "      <td>947.3</td>\n",
              "      <td>58.843195</td>\n",
              "      <td>1749520.0</td>\n",
              "      <td>52.403647</td>\n",
              "      <td>NaN</td>\n",
              "      <td>21327.272</td>\n",
              "      <td>3.667</td>\n",
              "      <td>0.002812</td>\n",
              "    </tr>\n",
              "    <tr>\n",
              "      <th>2</th>\n",
              "      <td>3</td>\n",
              "      <td>India</td>\n",
              "      <td>1962</td>\n",
              "      <td>236.1</td>\n",
              "      <td>3.337905</td>\n",
              "      <td>39.065969</td>\n",
              "      <td>467024193.0</td>\n",
              "      <td>7.790802</td>\n",
              "      <td>NaN</td>\n",
              "      <td>85082467.0</td>\n",
              "      <td>...</td>\n",
              "      <td>17.360188</td>\n",
              "      <td>NaN</td>\n",
              "      <td>929.7</td>\n",
              "      <td>59.357794</td>\n",
              "      <td>1764820.0</td>\n",
              "      <td>52.704334</td>\n",
              "      <td>NaN</td>\n",
              "      <td>24906.264</td>\n",
              "      <td>11.001</td>\n",
              "      <td>0.007668</td>\n",
              "    </tr>\n",
              "    <tr>\n",
              "      <th>3</th>\n",
              "      <td>4</td>\n",
              "      <td>India</td>\n",
              "      <td>1963</td>\n",
              "      <td>233.2</td>\n",
              "      <td>3.330305</td>\n",
              "      <td>39.825352</td>\n",
              "      <td>477933619.0</td>\n",
              "      <td>7.876721</td>\n",
              "      <td>NaN</td>\n",
              "      <td>87963683.0</td>\n",
              "      <td>...</td>\n",
              "      <td>17.606321</td>\n",
              "      <td>NaN</td>\n",
              "      <td>965.8</td>\n",
              "      <td>59.247475</td>\n",
              "      <td>1761540.0</td>\n",
              "      <td>52.963316</td>\n",
              "      <td>NaN</td>\n",
              "      <td>27128.466</td>\n",
              "      <td>11.001</td>\n",
              "      <td>0.007140</td>\n",
              "    </tr>\n",
              "    <tr>\n",
              "      <th>4</th>\n",
              "      <td>5</td>\n",
              "      <td>India</td>\n",
              "      <td>1964</td>\n",
              "      <td>230.4</td>\n",
              "      <td>3.328228</td>\n",
              "      <td>41.343717</td>\n",
              "      <td>489059309.0</td>\n",
              "      <td>7.965645</td>\n",
              "      <td>NaN</td>\n",
              "      <td>90940579.0</td>\n",
              "      <td>...</td>\n",
              "      <td>18.682148</td>\n",
              "      <td>NaN</td>\n",
              "      <td>993.6</td>\n",
              "      <td>59.435152</td>\n",
              "      <td>1767120.0</td>\n",
              "      <td>53.051436</td>\n",
              "      <td>NaN</td>\n",
              "      <td>28144.225</td>\n",
              "      <td>22.002</td>\n",
              "      <td>0.014605</td>\n",
              "    </tr>\n",
              "  </tbody>\n",
              "</table>\n",
              "<p>5 rows × 24 columns</p>\n",
              "</div>\n",
              "    <div class=\"colab-df-buttons\">\n",
              "\n",
              "  <div class=\"colab-df-container\">\n",
              "    <button class=\"colab-df-convert\" onclick=\"convertToInteractive('df-1d775b83-67b5-4ef9-8f95-5fcb005ceeb5')\"\n",
              "            title=\"Convert this dataframe to an interactive table.\"\n",
              "            style=\"display:none;\">\n",
              "\n",
              "  <svg xmlns=\"http://www.w3.org/2000/svg\" height=\"24px\" viewBox=\"0 -960 960 960\">\n",
              "    <path d=\"M120-120v-720h720v720H120Zm60-500h600v-160H180v160Zm220 220h160v-160H400v160Zm0 220h160v-160H400v160ZM180-400h160v-160H180v160Zm440 0h160v-160H620v160ZM180-180h160v-160H180v160Zm440 0h160v-160H620v160Z\"/>\n",
              "  </svg>\n",
              "    </button>\n",
              "\n",
              "  <style>\n",
              "    .colab-df-container {\n",
              "      display:flex;\n",
              "      gap: 12px;\n",
              "    }\n",
              "\n",
              "    .colab-df-convert {\n",
              "      background-color: #E8F0FE;\n",
              "      border: none;\n",
              "      border-radius: 50%;\n",
              "      cursor: pointer;\n",
              "      display: none;\n",
              "      fill: #1967D2;\n",
              "      height: 32px;\n",
              "      padding: 0 0 0 0;\n",
              "      width: 32px;\n",
              "    }\n",
              "\n",
              "    .colab-df-convert:hover {\n",
              "      background-color: #E2EBFA;\n",
              "      box-shadow: 0px 1px 2px rgba(60, 64, 67, 0.3), 0px 1px 3px 1px rgba(60, 64, 67, 0.15);\n",
              "      fill: #174EA6;\n",
              "    }\n",
              "\n",
              "    .colab-df-buttons div {\n",
              "      margin-bottom: 4px;\n",
              "    }\n",
              "\n",
              "    [theme=dark] .colab-df-convert {\n",
              "      background-color: #3B4455;\n",
              "      fill: #D2E3FC;\n",
              "    }\n",
              "\n",
              "    [theme=dark] .colab-df-convert:hover {\n",
              "      background-color: #434B5C;\n",
              "      box-shadow: 0px 1px 3px 1px rgba(0, 0, 0, 0.15);\n",
              "      filter: drop-shadow(0px 1px 2px rgba(0, 0, 0, 0.3));\n",
              "      fill: #FFFFFF;\n",
              "    }\n",
              "  </style>\n",
              "\n",
              "    <script>\n",
              "      const buttonEl =\n",
              "        document.querySelector('#df-1d775b83-67b5-4ef9-8f95-5fcb005ceeb5 button.colab-df-convert');\n",
              "      buttonEl.style.display =\n",
              "        google.colab.kernel.accessAllowed ? 'block' : 'none';\n",
              "\n",
              "      async function convertToInteractive(key) {\n",
              "        const element = document.querySelector('#df-1d775b83-67b5-4ef9-8f95-5fcb005ceeb5');\n",
              "        const dataTable =\n",
              "          await google.colab.kernel.invokeFunction('convertToInteractive',\n",
              "                                                    [key], {});\n",
              "        if (!dataTable) return;\n",
              "\n",
              "        const docLinkHtml = 'Like what you see? Visit the ' +\n",
              "          '<a target=\"_blank\" href=https://colab.research.google.com/notebooks/data_table.ipynb>data table notebook</a>'\n",
              "          + ' to learn more about interactive tables.';\n",
              "        element.innerHTML = '';\n",
              "        dataTable['output_type'] = 'display_data';\n",
              "        await google.colab.output.renderOutput(dataTable, element);\n",
              "        const docLink = document.createElement('div');\n",
              "        docLink.innerHTML = docLinkHtml;\n",
              "        element.appendChild(docLink);\n",
              "      }\n",
              "    </script>\n",
              "  </div>\n",
              "\n",
              "\n",
              "<div id=\"df-3b68fda3-5803-41b2-bd10-87e7403e372a\">\n",
              "  <button class=\"colab-df-quickchart\" onclick=\"quickchart('df-3b68fda3-5803-41b2-bd10-87e7403e372a')\"\n",
              "            title=\"Suggest charts\"\n",
              "            style=\"display:none;\">\n",
              "\n",
              "<svg xmlns=\"http://www.w3.org/2000/svg\" height=\"24px\"viewBox=\"0 0 24 24\"\n",
              "     width=\"24px\">\n",
              "    <g>\n",
              "        <path d=\"M19 3H5c-1.1 0-2 .9-2 2v14c0 1.1.9 2 2 2h14c1.1 0 2-.9 2-2V5c0-1.1-.9-2-2-2zM9 17H7v-7h2v7zm4 0h-2V7h2v10zm4 0h-2v-4h2v4z\"/>\n",
              "    </g>\n",
              "</svg>\n",
              "  </button>\n",
              "\n",
              "<style>\n",
              "  .colab-df-quickchart {\n",
              "      --bg-color: #E8F0FE;\n",
              "      --fill-color: #1967D2;\n",
              "      --hover-bg-color: #E2EBFA;\n",
              "      --hover-fill-color: #174EA6;\n",
              "      --disabled-fill-color: #AAA;\n",
              "      --disabled-bg-color: #DDD;\n",
              "  }\n",
              "\n",
              "  [theme=dark] .colab-df-quickchart {\n",
              "      --bg-color: #3B4455;\n",
              "      --fill-color: #D2E3FC;\n",
              "      --hover-bg-color: #434B5C;\n",
              "      --hover-fill-color: #FFFFFF;\n",
              "      --disabled-bg-color: #3B4455;\n",
              "      --disabled-fill-color: #666;\n",
              "  }\n",
              "\n",
              "  .colab-df-quickchart {\n",
              "    background-color: var(--bg-color);\n",
              "    border: none;\n",
              "    border-radius: 50%;\n",
              "    cursor: pointer;\n",
              "    display: none;\n",
              "    fill: var(--fill-color);\n",
              "    height: 32px;\n",
              "    padding: 0;\n",
              "    width: 32px;\n",
              "  }\n",
              "\n",
              "  .colab-df-quickchart:hover {\n",
              "    background-color: var(--hover-bg-color);\n",
              "    box-shadow: 0 1px 2px rgba(60, 64, 67, 0.3), 0 1px 3px 1px rgba(60, 64, 67, 0.15);\n",
              "    fill: var(--button-hover-fill-color);\n",
              "  }\n",
              "\n",
              "  .colab-df-quickchart-complete:disabled,\n",
              "  .colab-df-quickchart-complete:disabled:hover {\n",
              "    background-color: var(--disabled-bg-color);\n",
              "    fill: var(--disabled-fill-color);\n",
              "    box-shadow: none;\n",
              "  }\n",
              "\n",
              "  .colab-df-spinner {\n",
              "    border: 2px solid var(--fill-color);\n",
              "    border-color: transparent;\n",
              "    border-bottom-color: var(--fill-color);\n",
              "    animation:\n",
              "      spin 1s steps(1) infinite;\n",
              "  }\n",
              "\n",
              "  @keyframes spin {\n",
              "    0% {\n",
              "      border-color: transparent;\n",
              "      border-bottom-color: var(--fill-color);\n",
              "      border-left-color: var(--fill-color);\n",
              "    }\n",
              "    20% {\n",
              "      border-color: transparent;\n",
              "      border-left-color: var(--fill-color);\n",
              "      border-top-color: var(--fill-color);\n",
              "    }\n",
              "    30% {\n",
              "      border-color: transparent;\n",
              "      border-left-color: var(--fill-color);\n",
              "      border-top-color: var(--fill-color);\n",
              "      border-right-color: var(--fill-color);\n",
              "    }\n",
              "    40% {\n",
              "      border-color: transparent;\n",
              "      border-right-color: var(--fill-color);\n",
              "      border-top-color: var(--fill-color);\n",
              "    }\n",
              "    60% {\n",
              "      border-color: transparent;\n",
              "      border-right-color: var(--fill-color);\n",
              "    }\n",
              "    80% {\n",
              "      border-color: transparent;\n",
              "      border-right-color: var(--fill-color);\n",
              "      border-bottom-color: var(--fill-color);\n",
              "    }\n",
              "    90% {\n",
              "      border-color: transparent;\n",
              "      border-bottom-color: var(--fill-color);\n",
              "    }\n",
              "  }\n",
              "</style>\n",
              "\n",
              "  <script>\n",
              "    async function quickchart(key) {\n",
              "      const quickchartButtonEl =\n",
              "        document.querySelector('#' + key + ' button');\n",
              "      quickchartButtonEl.disabled = true;  // To prevent multiple clicks.\n",
              "      quickchartButtonEl.classList.add('colab-df-spinner');\n",
              "      try {\n",
              "        const charts = await google.colab.kernel.invokeFunction(\n",
              "            'suggestCharts', [key], {});\n",
              "      } catch (error) {\n",
              "        console.error('Error during call to suggestCharts:', error);\n",
              "      }\n",
              "      quickchartButtonEl.classList.remove('colab-df-spinner');\n",
              "      quickchartButtonEl.classList.add('colab-df-quickchart-complete');\n",
              "    }\n",
              "    (() => {\n",
              "      let quickchartButtonEl =\n",
              "        document.querySelector('#df-3b68fda3-5803-41b2-bd10-87e7403e372a button');\n",
              "      quickchartButtonEl.style.display =\n",
              "        google.colab.kernel.accessAllowed ? 'block' : 'none';\n",
              "    })();\n",
              "  </script>\n",
              "</div>\n",
              "\n",
              "    </div>\n",
              "  </div>\n"
            ],
            "application/vnd.google.colaboratory.intrinsic+json": {
              "type": "dataframe",
              "variable_name": "df"
            }
          },
          "metadata": {},
          "execution_count": 9
        }
      ],
      "source": [
        "df.head()"
      ]
    },
    {
      "cell_type": "markdown",
      "id": "3a066f70",
      "metadata": {
        "papermill": {
          "duration": 0.008013,
          "end_time": "2024-02-03T23:34:30.716358",
          "exception": false,
          "start_time": "2024-02-03T23:34:30.708345",
          "status": "completed"
        },
        "tags": [],
        "id": "3a066f70"
      },
      "source": [
        "# Exploratory Data Analysis (EDA)."
      ]
    },
    {
      "cell_type": "code",
      "execution_count": null,
      "id": "0ca44bba",
      "metadata": {
        "execution": {
          "iopub.execute_input": "2024-02-03T23:34:30.734365Z",
          "iopub.status.busy": "2024-02-03T23:34:30.734019Z",
          "iopub.status.idle": "2024-02-03T23:34:30.739644Z",
          "shell.execute_reply": "2024-02-03T23:34:30.738846Z"
        },
        "papermill": {
          "duration": 0.016718,
          "end_time": "2024-02-03T23:34:30.741441",
          "exception": false,
          "start_time": "2024-02-03T23:34:30.724723",
          "status": "completed"
        },
        "tags": [],
        "colab": {
          "base_uri": "https://localhost:8080/"
        },
        "id": "0ca44bba",
        "outputId": "9f5a2a0e-bd56-4733-c48b-33034df300b9"
      },
      "outputs": [
        {
          "output_type": "execute_result",
          "data": {
            "text/plain": [
              "(64, 24)"
            ]
          },
          "metadata": {},
          "execution_count": 10
        }
      ],
      "source": [
        "df.shape"
      ]
    },
    {
      "cell_type": "code",
      "execution_count": null,
      "id": "8b358897",
      "metadata": {
        "execution": {
          "iopub.execute_input": "2024-02-03T23:34:30.759949Z",
          "iopub.status.busy": "2024-02-03T23:34:30.759574Z",
          "iopub.status.idle": "2024-02-03T23:34:30.818827Z",
          "shell.execute_reply": "2024-02-03T23:34:30.817984Z"
        },
        "papermill": {
          "duration": 0.070603,
          "end_time": "2024-02-03T23:34:30.820596",
          "exception": false,
          "start_time": "2024-02-03T23:34:30.749993",
          "status": "completed"
        },
        "tags": [],
        "colab": {
          "base_uri": "https://localhost:8080/",
          "height": 471
        },
        "id": "8b358897",
        "outputId": "986ebe7e-55c9-434b-a5f3-087dbedaea6f"
      },
      "outputs": [
        {
          "output_type": "execute_result",
          "data": {
            "text/plain": [
              "             sno         year  \\\n",
              "count  64.000000    64.000000   \n",
              "mean   32.500000  1991.500000   \n",
              "std    18.618987    18.618987   \n",
              "min     1.000000  1960.000000   \n",
              "25%    16.750000  1975.750000   \n",
              "50%    32.500000  1991.500000   \n",
              "75%    48.250000  2007.250000   \n",
              "max    64.000000  2023.000000   \n",
              "\n",
              "       Mortality rate, under-5 (per 1,000 live births)  \\\n",
              "count                                        62.000000   \n",
              "mean                                        131.259677   \n",
              "std                                          67.330412   \n",
              "min                                          30.600000   \n",
              "25%                                          71.925000   \n",
              "50%                                         124.700000   \n",
              "75%                                         194.650000   \n",
              "max                                         242.800000   \n",
              "\n",
              "       Population growth (annual %)  \\\n",
              "count                     62.000000   \n",
              "mean                       2.983901   \n",
              "std                        0.496268   \n",
              "min                        2.024671   \n",
              "25%                        2.598915   \n",
              "50%                        2.921575   \n",
              "75%                        3.238137   \n",
              "max                        3.881524   \n",
              "\n",
              "       Agriculture, forestry, and fishing, value added (% of GDP)  \\\n",
              "count                                          63.000000            \n",
              "mean                                           27.756363            \n",
              "std                                             9.280000            \n",
              "min                                            16.031631            \n",
              "25%                                            17.473235            \n",
              "50%                                            27.584888            \n",
              "75%                                            35.887030            \n",
              "max                                            42.751558            \n",
              "\n",
              "       Population, total  \\\n",
              "count       6.300000e+01   \n",
              "mean        9.079334e+08   \n",
              "std         3.067577e+08   \n",
              "min         4.459546e+08   \n",
              "25%         6.304878e+08   \n",
              "50%         8.889418e+08   \n",
              "75%         1.181033e+09   \n",
              "max         1.417173e+09   \n",
              "\n",
              "       Population in urban agglomerations of more than 1 million (% of total population)  \\\n",
              "count                                          64.000000                                   \n",
              "mean                                           11.413035                                   \n",
              "std                                             2.493673                                   \n",
              "min                                             7.629440                                   \n",
              "25%                                             9.300321                                   \n",
              "50%                                            11.251096                                   \n",
              "75%                                            13.198907                                   \n",
              "max                                            16.567299                                   \n",
              "\n",
              "       Total greenhouse gas emissions (kt of CO2 equivalent)  \\\n",
              "count                                       3.100000e+01       \n",
              "mean                                        2.193435e+06       \n",
              "std                                         7.271134e+05       \n",
              "min                                         1.237963e+06       \n",
              "25%                                         1.589353e+06       \n",
              "50%                                         1.966216e+06       \n",
              "75%                                         2.866799e+06       \n",
              "max                                         3.436072e+06       \n",
              "\n",
              "       Urban population  Urban population (% of total population)  ...  \\\n",
              "count      6.300000e+01                                 63.000000  ...   \n",
              "mean       2.502806e+08                                 25.865857  ...   \n",
              "std        1.287808e+08                                  5.141735  ...   \n",
              "min        7.993290e+07                                 17.924000  ...   \n",
              "25%        1.355953e+08                                 21.504500  ...   \n",
              "50%        2.291514e+08                                 25.778000  ...   \n",
              "75%        3.512242e+08                                 29.737500  ...   \n",
              "max        5.083684e+08                                 35.872000  ...   \n",
              "\n",
              "       CO2 emissions from liquid fuel consumption (% of total)  \\\n",
              "count                                          48.000000         \n",
              "mean                                           25.817349         \n",
              "std                                             4.110768         \n",
              "min                                            16.139038         \n",
              "25%                                            24.575794         \n",
              "50%                                            26.568119         \n",
              "75%                                            28.273318         \n",
              "max                                            32.308229         \n",
              "\n",
              "       CO2 intensity (kg per kg of oil equivalent energy use)  \\\n",
              "count                                          44.000000        \n",
              "mean                                            1.929821        \n",
              "std                                             0.351846        \n",
              "min                                             1.344787        \n",
              "25%                                             1.609805        \n",
              "50%                                             1.944940        \n",
              "75%                                             2.162765        \n",
              "max                                             2.590953        \n",
              "\n",
              "       Cereal yield (kg per hectare)  Agricultural land (% of land area)  \\\n",
              "count                      62.000000                           61.000000   \n",
              "mean                     1972.719355                           60.433378   \n",
              "std                       789.076247                            0.504468   \n",
              "min                       854.400000                           58.843195   \n",
              "25%                      1231.925000                           60.219813   \n",
              "50%                      1975.550000                           60.459305   \n",
              "75%                      2547.225000                           60.834995   \n",
              "max                      3566.600000                           61.074469   \n",
              "\n",
              "       Agricultural land (sq. km)  Arable land (% of land area)  \\\n",
              "count                6.100000e+01                     61.000000   \n",
              "mean                 1.796799e+06                     53.804786   \n",
              "std                  1.499880e+04                      0.927139   \n",
              "min                  1.749520e+06                     51.946881   \n",
              "25%                  1.790449e+06                     53.051436   \n",
              "50%                  1.797570e+06                     53.923564   \n",
              "75%                  1.808740e+06                     54.684026   \n",
              "max                  1.815860e+06                     55.031128   \n",
              "\n",
              "       Foreign direct investment, net inflows (% of GDP)  \\\n",
              "count                                          53.000000   \n",
              "mean                                            0.800954   \n",
              "std                                             0.890811   \n",
              "min                                            -0.029682   \n",
              "25%                                             0.045628   \n",
              "50%                                             0.594986   \n",
              "75%                                             1.507316   \n",
              "max                                             3.620523   \n",
              "\n",
              "       CO2 emissions from liquid fuel consumption (kt)  \\\n",
              "count                                        57.000000   \n",
              "mean                                     192862.326667   \n",
              "std                                      160150.539086   \n",
              "min                                       19460.769000   \n",
              "25%                                       61799.951000   \n",
              "50%                                      133724.489000   \n",
              "75%                                      296858.318000   \n",
              "max                                      648956.324000   \n",
              "\n",
              "       CO2 emissions from gaseous fuel consumption (kt)  \\\n",
              "count                                         57.000000   \n",
              "mean                                       28943.245000   \n",
              "std                                        32594.268455   \n",
              "min                                            0.000000   \n",
              "25%                                         1360.457000   \n",
              "50%                                        15218.050000   \n",
              "75%                                        47634.330000   \n",
              "max                                       101883.928000   \n",
              "\n",
              "       CO2 emissions from gaseous fuel consumption (% of total)  \n",
              "count                                          57.000000         \n",
              "mean                                            2.700529         \n",
              "std                                             2.051034         \n",
              "min                                             0.000000         \n",
              "25%                                             0.586422         \n",
              "50%                                             2.884589         \n",
              "75%                                             4.564567         \n",
              "max                                             6.023991         \n",
              "\n",
              "[8 rows x 23 columns]"
            ],
            "text/html": [
              "\n",
              "  <div id=\"df-0f510538-78df-4178-ab05-c40d949b87cb\" class=\"colab-df-container\">\n",
              "    <div>\n",
              "<style scoped>\n",
              "    .dataframe tbody tr th:only-of-type {\n",
              "        vertical-align: middle;\n",
              "    }\n",
              "\n",
              "    .dataframe tbody tr th {\n",
              "        vertical-align: top;\n",
              "    }\n",
              "\n",
              "    .dataframe thead th {\n",
              "        text-align: right;\n",
              "    }\n",
              "</style>\n",
              "<table border=\"1\" class=\"dataframe\">\n",
              "  <thead>\n",
              "    <tr style=\"text-align: right;\">\n",
              "      <th></th>\n",
              "      <th>sno</th>\n",
              "      <th>year</th>\n",
              "      <th>Mortality rate, under-5 (per 1,000 live births)</th>\n",
              "      <th>Population growth (annual %)</th>\n",
              "      <th>Agriculture, forestry, and fishing, value added (% of GDP)</th>\n",
              "      <th>Population, total</th>\n",
              "      <th>Population in urban agglomerations of more than 1 million (% of total population)</th>\n",
              "      <th>Total greenhouse gas emissions (kt of CO2 equivalent)</th>\n",
              "      <th>Urban population</th>\n",
              "      <th>Urban population (% of total population)</th>\n",
              "      <th>...</th>\n",
              "      <th>CO2 emissions from liquid fuel consumption (% of total)</th>\n",
              "      <th>CO2 intensity (kg per kg of oil equivalent energy use)</th>\n",
              "      <th>Cereal yield (kg per hectare)</th>\n",
              "      <th>Agricultural land (% of land area)</th>\n",
              "      <th>Agricultural land (sq. km)</th>\n",
              "      <th>Arable land (% of land area)</th>\n",
              "      <th>Foreign direct investment, net inflows (% of GDP)</th>\n",
              "      <th>CO2 emissions from liquid fuel consumption (kt)</th>\n",
              "      <th>CO2 emissions from gaseous fuel consumption (kt)</th>\n",
              "      <th>CO2 emissions from gaseous fuel consumption (% of total)</th>\n",
              "    </tr>\n",
              "  </thead>\n",
              "  <tbody>\n",
              "    <tr>\n",
              "      <th>count</th>\n",
              "      <td>64.000000</td>\n",
              "      <td>64.000000</td>\n",
              "      <td>62.000000</td>\n",
              "      <td>62.000000</td>\n",
              "      <td>63.000000</td>\n",
              "      <td>6.300000e+01</td>\n",
              "      <td>64.000000</td>\n",
              "      <td>3.100000e+01</td>\n",
              "      <td>6.300000e+01</td>\n",
              "      <td>63.000000</td>\n",
              "      <td>...</td>\n",
              "      <td>48.000000</td>\n",
              "      <td>44.000000</td>\n",
              "      <td>62.000000</td>\n",
              "      <td>61.000000</td>\n",
              "      <td>6.100000e+01</td>\n",
              "      <td>61.000000</td>\n",
              "      <td>53.000000</td>\n",
              "      <td>57.000000</td>\n",
              "      <td>57.000000</td>\n",
              "      <td>57.000000</td>\n",
              "    </tr>\n",
              "    <tr>\n",
              "      <th>mean</th>\n",
              "      <td>32.500000</td>\n",
              "      <td>1991.500000</td>\n",
              "      <td>131.259677</td>\n",
              "      <td>2.983901</td>\n",
              "      <td>27.756363</td>\n",
              "      <td>9.079334e+08</td>\n",
              "      <td>11.413035</td>\n",
              "      <td>2.193435e+06</td>\n",
              "      <td>2.502806e+08</td>\n",
              "      <td>25.865857</td>\n",
              "      <td>...</td>\n",
              "      <td>25.817349</td>\n",
              "      <td>1.929821</td>\n",
              "      <td>1972.719355</td>\n",
              "      <td>60.433378</td>\n",
              "      <td>1.796799e+06</td>\n",
              "      <td>53.804786</td>\n",
              "      <td>0.800954</td>\n",
              "      <td>192862.326667</td>\n",
              "      <td>28943.245000</td>\n",
              "      <td>2.700529</td>\n",
              "    </tr>\n",
              "    <tr>\n",
              "      <th>std</th>\n",
              "      <td>18.618987</td>\n",
              "      <td>18.618987</td>\n",
              "      <td>67.330412</td>\n",
              "      <td>0.496268</td>\n",
              "      <td>9.280000</td>\n",
              "      <td>3.067577e+08</td>\n",
              "      <td>2.493673</td>\n",
              "      <td>7.271134e+05</td>\n",
              "      <td>1.287808e+08</td>\n",
              "      <td>5.141735</td>\n",
              "      <td>...</td>\n",
              "      <td>4.110768</td>\n",
              "      <td>0.351846</td>\n",
              "      <td>789.076247</td>\n",
              "      <td>0.504468</td>\n",
              "      <td>1.499880e+04</td>\n",
              "      <td>0.927139</td>\n",
              "      <td>0.890811</td>\n",
              "      <td>160150.539086</td>\n",
              "      <td>32594.268455</td>\n",
              "      <td>2.051034</td>\n",
              "    </tr>\n",
              "    <tr>\n",
              "      <th>min</th>\n",
              "      <td>1.000000</td>\n",
              "      <td>1960.000000</td>\n",
              "      <td>30.600000</td>\n",
              "      <td>2.024671</td>\n",
              "      <td>16.031631</td>\n",
              "      <td>4.459546e+08</td>\n",
              "      <td>7.629440</td>\n",
              "      <td>1.237963e+06</td>\n",
              "      <td>7.993290e+07</td>\n",
              "      <td>17.924000</td>\n",
              "      <td>...</td>\n",
              "      <td>16.139038</td>\n",
              "      <td>1.344787</td>\n",
              "      <td>854.400000</td>\n",
              "      <td>58.843195</td>\n",
              "      <td>1.749520e+06</td>\n",
              "      <td>51.946881</td>\n",
              "      <td>-0.029682</td>\n",
              "      <td>19460.769000</td>\n",
              "      <td>0.000000</td>\n",
              "      <td>0.000000</td>\n",
              "    </tr>\n",
              "    <tr>\n",
              "      <th>25%</th>\n",
              "      <td>16.750000</td>\n",
              "      <td>1975.750000</td>\n",
              "      <td>71.925000</td>\n",
              "      <td>2.598915</td>\n",
              "      <td>17.473235</td>\n",
              "      <td>6.304878e+08</td>\n",
              "      <td>9.300321</td>\n",
              "      <td>1.589353e+06</td>\n",
              "      <td>1.355953e+08</td>\n",
              "      <td>21.504500</td>\n",
              "      <td>...</td>\n",
              "      <td>24.575794</td>\n",
              "      <td>1.609805</td>\n",
              "      <td>1231.925000</td>\n",
              "      <td>60.219813</td>\n",
              "      <td>1.790449e+06</td>\n",
              "      <td>53.051436</td>\n",
              "      <td>0.045628</td>\n",
              "      <td>61799.951000</td>\n",
              "      <td>1360.457000</td>\n",
              "      <td>0.586422</td>\n",
              "    </tr>\n",
              "    <tr>\n",
              "      <th>50%</th>\n",
              "      <td>32.500000</td>\n",
              "      <td>1991.500000</td>\n",
              "      <td>124.700000</td>\n",
              "      <td>2.921575</td>\n",
              "      <td>27.584888</td>\n",
              "      <td>8.889418e+08</td>\n",
              "      <td>11.251096</td>\n",
              "      <td>1.966216e+06</td>\n",
              "      <td>2.291514e+08</td>\n",
              "      <td>25.778000</td>\n",
              "      <td>...</td>\n",
              "      <td>26.568119</td>\n",
              "      <td>1.944940</td>\n",
              "      <td>1975.550000</td>\n",
              "      <td>60.459305</td>\n",
              "      <td>1.797570e+06</td>\n",
              "      <td>53.923564</td>\n",
              "      <td>0.594986</td>\n",
              "      <td>133724.489000</td>\n",
              "      <td>15218.050000</td>\n",
              "      <td>2.884589</td>\n",
              "    </tr>\n",
              "    <tr>\n",
              "      <th>75%</th>\n",
              "      <td>48.250000</td>\n",
              "      <td>2007.250000</td>\n",
              "      <td>194.650000</td>\n",
              "      <td>3.238137</td>\n",
              "      <td>35.887030</td>\n",
              "      <td>1.181033e+09</td>\n",
              "      <td>13.198907</td>\n",
              "      <td>2.866799e+06</td>\n",
              "      <td>3.512242e+08</td>\n",
              "      <td>29.737500</td>\n",
              "      <td>...</td>\n",
              "      <td>28.273318</td>\n",
              "      <td>2.162765</td>\n",
              "      <td>2547.225000</td>\n",
              "      <td>60.834995</td>\n",
              "      <td>1.808740e+06</td>\n",
              "      <td>54.684026</td>\n",
              "      <td>1.507316</td>\n",
              "      <td>296858.318000</td>\n",
              "      <td>47634.330000</td>\n",
              "      <td>4.564567</td>\n",
              "    </tr>\n",
              "    <tr>\n",
              "      <th>max</th>\n",
              "      <td>64.000000</td>\n",
              "      <td>2023.000000</td>\n",
              "      <td>242.800000</td>\n",
              "      <td>3.881524</td>\n",
              "      <td>42.751558</td>\n",
              "      <td>1.417173e+09</td>\n",
              "      <td>16.567299</td>\n",
              "      <td>3.436072e+06</td>\n",
              "      <td>5.083684e+08</td>\n",
              "      <td>35.872000</td>\n",
              "      <td>...</td>\n",
              "      <td>32.308229</td>\n",
              "      <td>2.590953</td>\n",
              "      <td>3566.600000</td>\n",
              "      <td>61.074469</td>\n",
              "      <td>1.815860e+06</td>\n",
              "      <td>55.031128</td>\n",
              "      <td>3.620523</td>\n",
              "      <td>648956.324000</td>\n",
              "      <td>101883.928000</td>\n",
              "      <td>6.023991</td>\n",
              "    </tr>\n",
              "  </tbody>\n",
              "</table>\n",
              "<p>8 rows × 23 columns</p>\n",
              "</div>\n",
              "    <div class=\"colab-df-buttons\">\n",
              "\n",
              "  <div class=\"colab-df-container\">\n",
              "    <button class=\"colab-df-convert\" onclick=\"convertToInteractive('df-0f510538-78df-4178-ab05-c40d949b87cb')\"\n",
              "            title=\"Convert this dataframe to an interactive table.\"\n",
              "            style=\"display:none;\">\n",
              "\n",
              "  <svg xmlns=\"http://www.w3.org/2000/svg\" height=\"24px\" viewBox=\"0 -960 960 960\">\n",
              "    <path d=\"M120-120v-720h720v720H120Zm60-500h600v-160H180v160Zm220 220h160v-160H400v160Zm0 220h160v-160H400v160ZM180-400h160v-160H180v160Zm440 0h160v-160H620v160ZM180-180h160v-160H180v160Zm440 0h160v-160H620v160Z\"/>\n",
              "  </svg>\n",
              "    </button>\n",
              "\n",
              "  <style>\n",
              "    .colab-df-container {\n",
              "      display:flex;\n",
              "      gap: 12px;\n",
              "    }\n",
              "\n",
              "    .colab-df-convert {\n",
              "      background-color: #E8F0FE;\n",
              "      border: none;\n",
              "      border-radius: 50%;\n",
              "      cursor: pointer;\n",
              "      display: none;\n",
              "      fill: #1967D2;\n",
              "      height: 32px;\n",
              "      padding: 0 0 0 0;\n",
              "      width: 32px;\n",
              "    }\n",
              "\n",
              "    .colab-df-convert:hover {\n",
              "      background-color: #E2EBFA;\n",
              "      box-shadow: 0px 1px 2px rgba(60, 64, 67, 0.3), 0px 1px 3px 1px rgba(60, 64, 67, 0.15);\n",
              "      fill: #174EA6;\n",
              "    }\n",
              "\n",
              "    .colab-df-buttons div {\n",
              "      margin-bottom: 4px;\n",
              "    }\n",
              "\n",
              "    [theme=dark] .colab-df-convert {\n",
              "      background-color: #3B4455;\n",
              "      fill: #D2E3FC;\n",
              "    }\n",
              "\n",
              "    [theme=dark] .colab-df-convert:hover {\n",
              "      background-color: #434B5C;\n",
              "      box-shadow: 0px 1px 3px 1px rgba(0, 0, 0, 0.15);\n",
              "      filter: drop-shadow(0px 1px 2px rgba(0, 0, 0, 0.3));\n",
              "      fill: #FFFFFF;\n",
              "    }\n",
              "  </style>\n",
              "\n",
              "    <script>\n",
              "      const buttonEl =\n",
              "        document.querySelector('#df-0f510538-78df-4178-ab05-c40d949b87cb button.colab-df-convert');\n",
              "      buttonEl.style.display =\n",
              "        google.colab.kernel.accessAllowed ? 'block' : 'none';\n",
              "\n",
              "      async function convertToInteractive(key) {\n",
              "        const element = document.querySelector('#df-0f510538-78df-4178-ab05-c40d949b87cb');\n",
              "        const dataTable =\n",
              "          await google.colab.kernel.invokeFunction('convertToInteractive',\n",
              "                                                    [key], {});\n",
              "        if (!dataTable) return;\n",
              "\n",
              "        const docLinkHtml = 'Like what you see? Visit the ' +\n",
              "          '<a target=\"_blank\" href=https://colab.research.google.com/notebooks/data_table.ipynb>data table notebook</a>'\n",
              "          + ' to learn more about interactive tables.';\n",
              "        element.innerHTML = '';\n",
              "        dataTable['output_type'] = 'display_data';\n",
              "        await google.colab.output.renderOutput(dataTable, element);\n",
              "        const docLink = document.createElement('div');\n",
              "        docLink.innerHTML = docLinkHtml;\n",
              "        element.appendChild(docLink);\n",
              "      }\n",
              "    </script>\n",
              "  </div>\n",
              "\n",
              "\n",
              "<div id=\"df-7532f2c5-ea92-4241-a606-da9fc2e51378\">\n",
              "  <button class=\"colab-df-quickchart\" onclick=\"quickchart('df-7532f2c5-ea92-4241-a606-da9fc2e51378')\"\n",
              "            title=\"Suggest charts\"\n",
              "            style=\"display:none;\">\n",
              "\n",
              "<svg xmlns=\"http://www.w3.org/2000/svg\" height=\"24px\"viewBox=\"0 0 24 24\"\n",
              "     width=\"24px\">\n",
              "    <g>\n",
              "        <path d=\"M19 3H5c-1.1 0-2 .9-2 2v14c0 1.1.9 2 2 2h14c1.1 0 2-.9 2-2V5c0-1.1-.9-2-2-2zM9 17H7v-7h2v7zm4 0h-2V7h2v10zm4 0h-2v-4h2v4z\"/>\n",
              "    </g>\n",
              "</svg>\n",
              "  </button>\n",
              "\n",
              "<style>\n",
              "  .colab-df-quickchart {\n",
              "      --bg-color: #E8F0FE;\n",
              "      --fill-color: #1967D2;\n",
              "      --hover-bg-color: #E2EBFA;\n",
              "      --hover-fill-color: #174EA6;\n",
              "      --disabled-fill-color: #AAA;\n",
              "      --disabled-bg-color: #DDD;\n",
              "  }\n",
              "\n",
              "  [theme=dark] .colab-df-quickchart {\n",
              "      --bg-color: #3B4455;\n",
              "      --fill-color: #D2E3FC;\n",
              "      --hover-bg-color: #434B5C;\n",
              "      --hover-fill-color: #FFFFFF;\n",
              "      --disabled-bg-color: #3B4455;\n",
              "      --disabled-fill-color: #666;\n",
              "  }\n",
              "\n",
              "  .colab-df-quickchart {\n",
              "    background-color: var(--bg-color);\n",
              "    border: none;\n",
              "    border-radius: 50%;\n",
              "    cursor: pointer;\n",
              "    display: none;\n",
              "    fill: var(--fill-color);\n",
              "    height: 32px;\n",
              "    padding: 0;\n",
              "    width: 32px;\n",
              "  }\n",
              "\n",
              "  .colab-df-quickchart:hover {\n",
              "    background-color: var(--hover-bg-color);\n",
              "    box-shadow: 0 1px 2px rgba(60, 64, 67, 0.3), 0 1px 3px 1px rgba(60, 64, 67, 0.15);\n",
              "    fill: var(--button-hover-fill-color);\n",
              "  }\n",
              "\n",
              "  .colab-df-quickchart-complete:disabled,\n",
              "  .colab-df-quickchart-complete:disabled:hover {\n",
              "    background-color: var(--disabled-bg-color);\n",
              "    fill: var(--disabled-fill-color);\n",
              "    box-shadow: none;\n",
              "  }\n",
              "\n",
              "  .colab-df-spinner {\n",
              "    border: 2px solid var(--fill-color);\n",
              "    border-color: transparent;\n",
              "    border-bottom-color: var(--fill-color);\n",
              "    animation:\n",
              "      spin 1s steps(1) infinite;\n",
              "  }\n",
              "\n",
              "  @keyframes spin {\n",
              "    0% {\n",
              "      border-color: transparent;\n",
              "      border-bottom-color: var(--fill-color);\n",
              "      border-left-color: var(--fill-color);\n",
              "    }\n",
              "    20% {\n",
              "      border-color: transparent;\n",
              "      border-left-color: var(--fill-color);\n",
              "      border-top-color: var(--fill-color);\n",
              "    }\n",
              "    30% {\n",
              "      border-color: transparent;\n",
              "      border-left-color: var(--fill-color);\n",
              "      border-top-color: var(--fill-color);\n",
              "      border-right-color: var(--fill-color);\n",
              "    }\n",
              "    40% {\n",
              "      border-color: transparent;\n",
              "      border-right-color: var(--fill-color);\n",
              "      border-top-color: var(--fill-color);\n",
              "    }\n",
              "    60% {\n",
              "      border-color: transparent;\n",
              "      border-right-color: var(--fill-color);\n",
              "    }\n",
              "    80% {\n",
              "      border-color: transparent;\n",
              "      border-right-color: var(--fill-color);\n",
              "      border-bottom-color: var(--fill-color);\n",
              "    }\n",
              "    90% {\n",
              "      border-color: transparent;\n",
              "      border-bottom-color: var(--fill-color);\n",
              "    }\n",
              "  }\n",
              "</style>\n",
              "\n",
              "  <script>\n",
              "    async function quickchart(key) {\n",
              "      const quickchartButtonEl =\n",
              "        document.querySelector('#' + key + ' button');\n",
              "      quickchartButtonEl.disabled = true;  // To prevent multiple clicks.\n",
              "      quickchartButtonEl.classList.add('colab-df-spinner');\n",
              "      try {\n",
              "        const charts = await google.colab.kernel.invokeFunction(\n",
              "            'suggestCharts', [key], {});\n",
              "      } catch (error) {\n",
              "        console.error('Error during call to suggestCharts:', error);\n",
              "      }\n",
              "      quickchartButtonEl.classList.remove('colab-df-spinner');\n",
              "      quickchartButtonEl.classList.add('colab-df-quickchart-complete');\n",
              "    }\n",
              "    (() => {\n",
              "      let quickchartButtonEl =\n",
              "        document.querySelector('#df-7532f2c5-ea92-4241-a606-da9fc2e51378 button');\n",
              "      quickchartButtonEl.style.display =\n",
              "        google.colab.kernel.accessAllowed ? 'block' : 'none';\n",
              "    })();\n",
              "  </script>\n",
              "</div>\n",
              "\n",
              "    </div>\n",
              "  </div>\n"
            ],
            "application/vnd.google.colaboratory.intrinsic+json": {
              "type": "dataframe"
            }
          },
          "metadata": {},
          "execution_count": 11
        }
      ],
      "source": [
        "df.describe()"
      ]
    },
    {
      "cell_type": "code",
      "execution_count": null,
      "id": "0a1dc8ed",
      "metadata": {
        "execution": {
          "iopub.execute_input": "2024-02-03T23:34:30.839294Z",
          "iopub.status.busy": "2024-02-03T23:34:30.838947Z",
          "iopub.status.idle": "2024-02-03T23:34:30.858385Z",
          "shell.execute_reply": "2024-02-03T23:34:30.857273Z"
        },
        "papermill": {
          "duration": 0.031596,
          "end_time": "2024-02-03T23:34:30.860840",
          "exception": false,
          "start_time": "2024-02-03T23:34:30.829244",
          "status": "completed"
        },
        "tags": [],
        "colab": {
          "base_uri": "https://localhost:8080/"
        },
        "id": "0a1dc8ed",
        "outputId": "642c8b9a-2d46-4926-aa27-4cd81c02bb33"
      },
      "outputs": [
        {
          "output_type": "stream",
          "name": "stdout",
          "text": [
            "<class 'pandas.core.frame.DataFrame'>\n",
            "RangeIndex: 64 entries, 0 to 63\n",
            "Data columns (total 24 columns):\n",
            " #   Column                                                                                     Non-Null Count  Dtype  \n",
            "---  ------                                                                                     --------------  -----  \n",
            " 0   sno                                                                                        64 non-null     int64  \n",
            " 1   country                                                                                    64 non-null     object \n",
            " 2   year                                                                                       64 non-null     int64  \n",
            " 3   Mortality rate, under-5 (per 1,000 live births)                                            62 non-null     float64\n",
            " 4   Population growth (annual %)                                                               62 non-null     float64\n",
            " 5   Agriculture, forestry, and fishing, value added (% of GDP)                                 63 non-null     float64\n",
            " 6   Population, total                                                                          63 non-null     float64\n",
            " 7   Population in urban agglomerations of more than 1 million (% of total population)          64 non-null     float64\n",
            " 8   Total greenhouse gas emissions (kt of CO2 equivalent)                                      31 non-null     float64\n",
            " 9   Urban population                                                                           63 non-null     float64\n",
            " 10  Urban population (% of total population)                                                   63 non-null     float64\n",
            " 11  Other greenhouse gas emissions, HFC, PFC and SF6 (thousand metric tons of CO2 equivalent)  47 non-null     float64\n",
            " 12  CO2 emissions from solid fuel consumption (% of total)                                     57 non-null     float64\n",
            " 13  CO2 emissions from solid fuel consumption (kt)                                             57 non-null     float64\n",
            " 14  CO2 emissions from liquid fuel consumption (% of total)                                    48 non-null     float64\n",
            " 15  CO2 intensity (kg per kg of oil equivalent energy use)                                     44 non-null     float64\n",
            " 16  Cereal yield (kg per hectare)                                                              62 non-null     float64\n",
            " 17  Agricultural land (% of land area)                                                         61 non-null     float64\n",
            " 18  Agricultural land (sq. km)                                                                 61 non-null     float64\n",
            " 19  Arable land (% of land area)                                                               61 non-null     float64\n",
            " 20  Foreign direct investment, net inflows (% of GDP)                                          53 non-null     float64\n",
            " 21  CO2 emissions from liquid fuel consumption (kt)                                            57 non-null     float64\n",
            " 22  CO2 emissions from gaseous fuel consumption (kt)                                           57 non-null     float64\n",
            " 23  CO2 emissions from gaseous fuel consumption (% of total)                                   57 non-null     float64\n",
            "dtypes: float64(21), int64(2), object(1)\n",
            "memory usage: 12.1+ KB\n"
          ]
        }
      ],
      "source": [
        "df.info()"
      ]
    },
    {
      "cell_type": "code",
      "execution_count": null,
      "id": "89092109",
      "metadata": {
        "execution": {
          "iopub.execute_input": "2024-02-03T23:34:30.880886Z",
          "iopub.status.busy": "2024-02-03T23:34:30.880528Z",
          "iopub.status.idle": "2024-02-03T23:34:30.886564Z",
          "shell.execute_reply": "2024-02-03T23:34:30.885620Z"
        },
        "papermill": {
          "duration": 0.018359,
          "end_time": "2024-02-03T23:34:30.888474",
          "exception": false,
          "start_time": "2024-02-03T23:34:30.870115",
          "status": "completed"
        },
        "tags": [],
        "colab": {
          "base_uri": "https://localhost:8080/"
        },
        "id": "89092109",
        "outputId": "9bf8061a-4209-4e30-9006-d384639c2a98"
      },
      "outputs": [
        {
          "output_type": "execute_result",
          "data": {
            "text/plain": [
              "Index(['sno', 'country', 'year',\n",
              "       'Mortality rate, under-5 (per 1,000 live births)',\n",
              "       'Population growth (annual %)',\n",
              "       'Agriculture, forestry, and fishing, value added (% of GDP)',\n",
              "       'Population, total',\n",
              "       'Population in urban agglomerations of more than 1 million (% of total population)',\n",
              "       'Total greenhouse gas emissions (kt of CO2 equivalent)',\n",
              "       'Urban population', 'Urban population (% of total population)',\n",
              "       'Other greenhouse gas emissions, HFC, PFC and SF6 (thousand metric tons of CO2 equivalent)',\n",
              "       'CO2 emissions from solid fuel consumption (% of total)',\n",
              "       'CO2 emissions from solid fuel consumption (kt)',\n",
              "       'CO2 emissions from liquid fuel consumption (% of total)',\n",
              "       'CO2 intensity (kg per kg of oil equivalent energy use)',\n",
              "       'Cereal yield (kg per hectare)', 'Agricultural land (% of land area)',\n",
              "       'Agricultural land (sq. km)', 'Arable land (% of land area)',\n",
              "       'Foreign direct investment, net inflows (% of GDP)',\n",
              "       'CO2 emissions from liquid fuel consumption (kt)',\n",
              "       'CO2 emissions from gaseous fuel consumption (kt)',\n",
              "       'CO2 emissions from gaseous fuel consumption (% of total)'],\n",
              "      dtype='object')"
            ]
          },
          "metadata": {},
          "execution_count": 13
        }
      ],
      "source": [
        "df.columns"
      ]
    },
    {
      "cell_type": "code",
      "execution_count": null,
      "id": "d8923322",
      "metadata": {
        "execution": {
          "iopub.execute_input": "2024-02-03T23:34:30.909497Z",
          "iopub.status.busy": "2024-02-03T23:34:30.909107Z",
          "iopub.status.idle": "2024-02-03T23:34:30.917905Z",
          "shell.execute_reply": "2024-02-03T23:34:30.916569Z"
        },
        "papermill": {
          "duration": 0.022246,
          "end_time": "2024-02-03T23:34:30.919957",
          "exception": false,
          "start_time": "2024-02-03T23:34:30.897711",
          "status": "completed"
        },
        "tags": [],
        "colab": {
          "base_uri": "https://localhost:8080/",
          "height": 836
        },
        "id": "d8923322",
        "outputId": "1888ba68-c38f-47b9-b506-e83326af8bc8"
      },
      "outputs": [
        {
          "output_type": "execute_result",
          "data": {
            "text/plain": [
              "sno                                                                                           0\n",
              "country                                                                                       0\n",
              "year                                                                                          0\n",
              "Mortality rate, under-5 (per 1,000 live births)                                               2\n",
              "Population growth (annual %)                                                                  2\n",
              "Agriculture, forestry, and fishing, value added (% of GDP)                                    1\n",
              "Population, total                                                                             1\n",
              "Population in urban agglomerations of more than 1 million (% of total population)             0\n",
              "Total greenhouse gas emissions (kt of CO2 equivalent)                                        33\n",
              "Urban population                                                                              1\n",
              "Urban population (% of total population)                                                      1\n",
              "Other greenhouse gas emissions, HFC, PFC and SF6 (thousand metric tons of CO2 equivalent)    17\n",
              "CO2 emissions from solid fuel consumption (% of total)                                        7\n",
              "CO2 emissions from solid fuel consumption (kt)                                                7\n",
              "CO2 emissions from liquid fuel consumption (% of total)                                      16\n",
              "CO2 intensity (kg per kg of oil equivalent energy use)                                       20\n",
              "Cereal yield (kg per hectare)                                                                 2\n",
              "Agricultural land (% of land area)                                                            3\n",
              "Agricultural land (sq. km)                                                                    3\n",
              "Arable land (% of land area)                                                                  3\n",
              "Foreign direct investment, net inflows (% of GDP)                                            11\n",
              "CO2 emissions from liquid fuel consumption (kt)                                               7\n",
              "CO2 emissions from gaseous fuel consumption (kt)                                              7\n",
              "CO2 emissions from gaseous fuel consumption (% of total)                                      7\n",
              "dtype: int64"
            ],
            "text/html": [
              "<div>\n",
              "<style scoped>\n",
              "    .dataframe tbody tr th:only-of-type {\n",
              "        vertical-align: middle;\n",
              "    }\n",
              "\n",
              "    .dataframe tbody tr th {\n",
              "        vertical-align: top;\n",
              "    }\n",
              "\n",
              "    .dataframe thead th {\n",
              "        text-align: right;\n",
              "    }\n",
              "</style>\n",
              "<table border=\"1\" class=\"dataframe\">\n",
              "  <thead>\n",
              "    <tr style=\"text-align: right;\">\n",
              "      <th></th>\n",
              "      <th>0</th>\n",
              "    </tr>\n",
              "  </thead>\n",
              "  <tbody>\n",
              "    <tr>\n",
              "      <th>sno</th>\n",
              "      <td>0</td>\n",
              "    </tr>\n",
              "    <tr>\n",
              "      <th>country</th>\n",
              "      <td>0</td>\n",
              "    </tr>\n",
              "    <tr>\n",
              "      <th>year</th>\n",
              "      <td>0</td>\n",
              "    </tr>\n",
              "    <tr>\n",
              "      <th>Mortality rate, under-5 (per 1,000 live births)</th>\n",
              "      <td>2</td>\n",
              "    </tr>\n",
              "    <tr>\n",
              "      <th>Population growth (annual %)</th>\n",
              "      <td>2</td>\n",
              "    </tr>\n",
              "    <tr>\n",
              "      <th>Agriculture, forestry, and fishing, value added (% of GDP)</th>\n",
              "      <td>1</td>\n",
              "    </tr>\n",
              "    <tr>\n",
              "      <th>Population, total</th>\n",
              "      <td>1</td>\n",
              "    </tr>\n",
              "    <tr>\n",
              "      <th>Population in urban agglomerations of more than 1 million (% of total population)</th>\n",
              "      <td>0</td>\n",
              "    </tr>\n",
              "    <tr>\n",
              "      <th>Total greenhouse gas emissions (kt of CO2 equivalent)</th>\n",
              "      <td>33</td>\n",
              "    </tr>\n",
              "    <tr>\n",
              "      <th>Urban population</th>\n",
              "      <td>1</td>\n",
              "    </tr>\n",
              "    <tr>\n",
              "      <th>Urban population (% of total population)</th>\n",
              "      <td>1</td>\n",
              "    </tr>\n",
              "    <tr>\n",
              "      <th>Other greenhouse gas emissions, HFC, PFC and SF6 (thousand metric tons of CO2 equivalent)</th>\n",
              "      <td>17</td>\n",
              "    </tr>\n",
              "    <tr>\n",
              "      <th>CO2 emissions from solid fuel consumption (% of total)</th>\n",
              "      <td>7</td>\n",
              "    </tr>\n",
              "    <tr>\n",
              "      <th>CO2 emissions from solid fuel consumption (kt)</th>\n",
              "      <td>7</td>\n",
              "    </tr>\n",
              "    <tr>\n",
              "      <th>CO2 emissions from liquid fuel consumption (% of total)</th>\n",
              "      <td>16</td>\n",
              "    </tr>\n",
              "    <tr>\n",
              "      <th>CO2 intensity (kg per kg of oil equivalent energy use)</th>\n",
              "      <td>20</td>\n",
              "    </tr>\n",
              "    <tr>\n",
              "      <th>Cereal yield (kg per hectare)</th>\n",
              "      <td>2</td>\n",
              "    </tr>\n",
              "    <tr>\n",
              "      <th>Agricultural land (% of land area)</th>\n",
              "      <td>3</td>\n",
              "    </tr>\n",
              "    <tr>\n",
              "      <th>Agricultural land (sq. km)</th>\n",
              "      <td>3</td>\n",
              "    </tr>\n",
              "    <tr>\n",
              "      <th>Arable land (% of land area)</th>\n",
              "      <td>3</td>\n",
              "    </tr>\n",
              "    <tr>\n",
              "      <th>Foreign direct investment, net inflows (% of GDP)</th>\n",
              "      <td>11</td>\n",
              "    </tr>\n",
              "    <tr>\n",
              "      <th>CO2 emissions from liquid fuel consumption (kt)</th>\n",
              "      <td>7</td>\n",
              "    </tr>\n",
              "    <tr>\n",
              "      <th>CO2 emissions from gaseous fuel consumption (kt)</th>\n",
              "      <td>7</td>\n",
              "    </tr>\n",
              "    <tr>\n",
              "      <th>CO2 emissions from gaseous fuel consumption (% of total)</th>\n",
              "      <td>7</td>\n",
              "    </tr>\n",
              "  </tbody>\n",
              "</table>\n",
              "</div><br><label><b>dtype:</b> int64</label>"
            ]
          },
          "metadata": {},
          "execution_count": 14
        }
      ],
      "source": [
        "df.isnull().sum()"
      ]
    },
    {
      "cell_type": "code",
      "source": [
        "import matplotlib.pyplot as plt\n",
        "import base64\n",
        "from io import BytesIO\n",
        "\n",
        "# Function to convert Matplotlib figure to base64\n",
        "def fig_to_base64(fig):\n",
        "    img = BytesIO()\n",
        "    fig.savefig(img, format='png', bbox_inches='tight')\n",
        "    img.seek(0)\n",
        "    return base64.b64encode(img.getvalue()).decode()"
      ],
      "metadata": {
        "id": "nx9WoGbXq9A_"
      },
      "id": "nx9WoGbXq9A_",
      "execution_count": null,
      "outputs": []
    },
    {
      "cell_type": "code",
      "execution_count": null,
      "id": "fec95893",
      "metadata": {
        "execution": {
          "iopub.execute_input": "2024-02-03T23:34:30.941482Z",
          "iopub.status.busy": "2024-02-03T23:34:30.941145Z",
          "iopub.status.idle": "2024-02-03T23:34:31.230349Z",
          "shell.execute_reply": "2024-02-03T23:34:31.229091Z"
        },
        "papermill": {
          "duration": 0.303066,
          "end_time": "2024-02-03T23:34:31.232612",
          "exception": false,
          "start_time": "2024-02-03T23:34:30.929546",
          "status": "completed"
        },
        "tags": [],
        "colab": {
          "base_uri": "https://localhost:8080/",
          "height": 487
        },
        "id": "fec95893",
        "outputId": "20c7e1ae-ec60-49a0-88c6-af2970ebb3e8"
      },
      "outputs": [
        {
          "output_type": "display_data",
          "data": {
            "text/plain": [
              "<Figure size 1200x600 with 1 Axes>"
            ],
            "image/png": "[encoded data removed]"
          },
          "metadata": {}
        }
      ],
      "source": [
        "# Histogram - distribution of 'CO2 emissions from solid fuel consumption'.\n",
        "fig=plt.figure(figsize=(12, 6))\n",
        "sns.histplot(df['CO2 emissions from solid fuel consumption (kt)'], bins=20, kde=True, color='blue')\n",
        "plt.title('Distribution of CO2 Emissions from Solid Fuel Consumption')\n",
        "plt.xlabel('CO2 Emissions (kt)')\n",
        "plt.ylabel('Frequency')\n",
        "\n",
        "histograms_base64 = fig_to_base64(fig)\n",
        "plt.show()"
      ]
    },
    {
      "cell_type": "markdown",
      "id": "67cf8365",
      "metadata": {
        "papermill": {
          "duration": 0.009236,
          "end_time": "2024-02-03T23:34:31.252117",
          "exception": false,
          "start_time": "2024-02-03T23:34:31.242881",
          "status": "completed"
        },
        "tags": [],
        "id": "67cf8365"
      },
      "source": [
        "# Data Cleaning and Preprocessing."
      ]
    },
    {
      "cell_type": "code",
      "execution_count": null,
      "id": "fb0845cd",
      "metadata": {
        "execution": {
          "iopub.execute_input": "2024-02-03T23:34:31.272744Z",
          "iopub.status.busy": "2024-02-03T23:34:31.272381Z",
          "iopub.status.idle": "2024-02-03T23:34:31.277953Z",
          "shell.execute_reply": "2024-02-03T23:34:31.276832Z"
        },
        "papermill": {
          "duration": 0.017937,
          "end_time": "2024-02-03T23:34:31.279696",
          "exception": false,
          "start_time": "2024-02-03T23:34:31.261759",
          "status": "completed"
        },
        "tags": [],
        "id": "fb0845cd"
      },
      "outputs": [],
      "source": [
        "# Droping unnecessary columns.\n",
        "df = df.drop(['sno', 'country'], axis=1)"
      ]
    },
    {
      "cell_type": "code",
      "execution_count": null,
      "id": "1ab60483",
      "metadata": {
        "execution": {
          "iopub.execute_input": "2024-02-03T23:34:31.300855Z",
          "iopub.status.busy": "2024-02-03T23:34:31.300364Z",
          "iopub.status.idle": "2024-02-03T23:34:31.310073Z",
          "shell.execute_reply": "2024-02-03T23:34:31.308845Z"
        },
        "papermill": {
          "duration": 0.022486,
          "end_time": "2024-02-03T23:34:31.311944",
          "exception": false,
          "start_time": "2024-02-03T23:34:31.289458",
          "status": "completed"
        },
        "tags": [],
        "id": "1ab60483"
      },
      "outputs": [],
      "source": [
        "# Imputing missing values with mean.\n",
        "imputer = SimpleImputer(missing_values=np.nan, strategy='mean')\n",
        "df = pd.DataFrame(imputer.fit_transform(df), columns=df.columns)"
      ]
    },
    {
      "cell_type": "markdown",
      "id": "1c7ede39",
      "metadata": {
        "papermill": {
          "duration": 0.009152,
          "end_time": "2024-02-03T23:34:31.330770",
          "exception": false,
          "start_time": "2024-02-03T23:34:31.321618",
          "status": "completed"
        },
        "tags": [],
        "id": "1c7ede39"
      },
      "source": [
        "# Splitting Data Into Test-Train Sets."
      ]
    },
    {
      "cell_type": "code",
      "execution_count": null,
      "id": "399fb6b4",
      "metadata": {
        "execution": {
          "iopub.execute_input": "2024-02-03T23:34:31.351757Z",
          "iopub.status.busy": "2024-02-03T23:34:31.350619Z",
          "iopub.status.idle": "2024-02-03T23:34:31.356217Z",
          "shell.execute_reply": "2024-02-03T23:34:31.355173Z"
        },
        "papermill": {
          "duration": 0.018551,
          "end_time": "2024-02-03T23:34:31.358723",
          "exception": false,
          "start_time": "2024-02-03T23:34:31.340172",
          "status": "completed"
        },
        "tags": [],
        "id": "399fb6b4"
      },
      "outputs": [],
      "source": [
        "X = df.drop(['year', 'CO2 emissions from solid fuel consumption (kt)'], axis=1)\n",
        "y = df['CO2 emissions from liquid fuel consumption (kt)']"
      ]
    },
    {
      "cell_type": "code",
      "execution_count": null,
      "id": "37e22fc2",
      "metadata": {
        "execution": {
          "iopub.execute_input": "2024-02-03T23:34:31.379251Z",
          "iopub.status.busy": "2024-02-03T23:34:31.378965Z",
          "iopub.status.idle": "2024-02-03T23:34:31.385093Z",
          "shell.execute_reply": "2024-02-03T23:34:31.384215Z"
        },
        "papermill": {
          "duration": 0.018107,
          "end_time": "2024-02-03T23:34:31.386748",
          "exception": false,
          "start_time": "2024-02-03T23:34:31.368641",
          "status": "completed"
        },
        "tags": [],
        "id": "37e22fc2"
      },
      "outputs": [],
      "source": [
        "X_train, X_test, y_train, y_test = train_test_split(X, y, test_size=0.2, random_state=0)"
      ]
    },
    {
      "cell_type": "markdown",
      "id": "efb6742b",
      "metadata": {
        "papermill": {
          "duration": 0.008816,
          "end_time": "2024-02-03T23:34:31.405304",
          "exception": false,
          "start_time": "2024-02-03T23:34:31.396488",
          "status": "completed"
        },
        "tags": [],
        "id": "efb6742b"
      },
      "source": [
        "# Feature Scaling."
      ]
    },
    {
      "cell_type": "code",
      "execution_count": null,
      "id": "2fa70e78",
      "metadata": {
        "execution": {
          "iopub.execute_input": "2024-02-03T23:34:31.425190Z",
          "iopub.status.busy": "2024-02-03T23:34:31.424685Z",
          "iopub.status.idle": "2024-02-03T23:34:31.428272Z",
          "shell.execute_reply": "2024-02-03T23:34:31.427734Z"
        },
        "papermill": {
          "duration": 0.015458,
          "end_time": "2024-02-03T23:34:31.429878",
          "exception": false,
          "start_time": "2024-02-03T23:34:31.414420",
          "status": "completed"
        },
        "tags": [],
        "id": "2fa70e78"
      },
      "outputs": [],
      "source": [
        "scaler = MinMaxScaler()"
      ]
    },
    {
      "cell_type": "code",
      "execution_count": null,
      "id": "73839ef8",
      "metadata": {
        "execution": {
          "iopub.execute_input": "2024-02-03T23:34:31.449486Z",
          "iopub.status.busy": "2024-02-03T23:34:31.449052Z",
          "iopub.status.idle": "2024-02-03T23:34:31.455457Z",
          "shell.execute_reply": "2024-02-03T23:34:31.454869Z"
        },
        "papermill": {
          "duration": 0.0182,
          "end_time": "2024-02-03T23:34:31.457101",
          "exception": false,
          "start_time": "2024-02-03T23:34:31.438901",
          "status": "completed"
        },
        "tags": [],
        "id": "73839ef8"
      },
      "outputs": [],
      "source": [
        "X_train = scaler.fit_transform(X_train)"
      ]
    },
    {
      "cell_type": "code",
      "execution_count": null,
      "id": "dc70c324",
      "metadata": {
        "execution": {
          "iopub.execute_input": "2024-02-03T23:34:31.477571Z",
          "iopub.status.busy": "2024-02-03T23:34:31.477076Z",
          "iopub.status.idle": "2024-02-03T23:34:31.482278Z",
          "shell.execute_reply": "2024-02-03T23:34:31.481723Z"
        },
        "papermill": {
          "duration": 0.017284,
          "end_time": "2024-02-03T23:34:31.483900",
          "exception": false,
          "start_time": "2024-02-03T23:34:31.466616",
          "status": "completed"
        },
        "tags": [],
        "id": "dc70c324"
      },
      "outputs": [],
      "source": [
        "X_test = scaler.transform(X_test)"
      ]
    },
    {
      "cell_type": "markdown",
      "id": "27fed39b",
      "metadata": {
        "papermill": {
          "duration": 0.008886,
          "end_time": "2024-02-03T23:34:31.502383",
          "exception": false,
          "start_time": "2024-02-03T23:34:31.493497",
          "status": "completed"
        },
        "tags": [],
        "id": "27fed39b"
      },
      "source": [
        "# Training RNN (LSTM) model."
      ]
    },
    {
      "cell_type": "code",
      "execution_count": null,
      "id": "c4da396d",
      "metadata": {
        "execution": {
          "iopub.execute_input": "2024-02-03T23:34:31.522294Z",
          "iopub.status.busy": "2024-02-03T23:34:31.521800Z",
          "iopub.status.idle": "2024-02-03T23:34:31.691651Z",
          "shell.execute_reply": "2024-02-03T23:34:31.690760Z"
        },
        "papermill": {
          "duration": 0.182282,
          "end_time": "2024-02-03T23:34:31.693863",
          "exception": false,
          "start_time": "2024-02-03T23:34:31.511581",
          "status": "completed"
        },
        "tags": [],
        "colab": {
          "base_uri": "https://localhost:8080/"
        },
        "id": "c4da396d",
        "outputId": "a1f964f6-f63f-4db8-c4f5-a1d6023a3af6"
      },
      "outputs": [
        {
          "output_type": "stream",
          "name": "stderr",
          "text": [
            "/usr/local/lib/python3.10/dist-packages/keras/src/layers/rnn/rnn.py:204: UserWarning: Do not pass an `input_shape`/`input_dim` argument to a layer. When using Sequential models, prefer using an `Input(shape)` object as the first layer in the model instead.\n",
            "  super().__init__(**kwargs)\n"
          ]
        }
      ],
      "source": [
        "model_rnn = Sequential()\n",
        "model_rnn.add(LSTM(50, activation='relu', input_shape=(X_train.shape[1], 1)))\n",
        "model_rnn.add(Dense(1))"
      ]
    },
    {
      "cell_type": "code",
      "execution_count": null,
      "id": "fc5c232e",
      "metadata": {
        "execution": {
          "iopub.execute_input": "2024-02-03T23:34:31.715029Z",
          "iopub.status.busy": "2024-02-03T23:34:31.714711Z",
          "iopub.status.idle": "2024-02-03T23:34:31.732914Z",
          "shell.execute_reply": "2024-02-03T23:34:31.732007Z"
        },
        "papermill": {
          "duration": 0.031153,
          "end_time": "2024-02-03T23:34:31.734902",
          "exception": false,
          "start_time": "2024-02-03T23:34:31.703749",
          "status": "completed"
        },
        "tags": [],
        "id": "fc5c232e"
      },
      "outputs": [],
      "source": [
        "model_rnn.compile(optimizer='RMSprop', loss='mean_squared_error')"
      ]
    },
    {
      "cell_type": "code",
      "execution_count": null,
      "id": "bb6d0b0c",
      "metadata": {
        "execution": {
          "iopub.execute_input": "2024-02-03T23:34:31.755957Z",
          "iopub.status.busy": "2024-02-03T23:34:31.755605Z",
          "iopub.status.idle": "2024-02-03T23:34:31.760735Z",
          "shell.execute_reply": "2024-02-03T23:34:31.759477Z"
        },
        "papermill": {
          "duration": 0.018289,
          "end_time": "2024-02-03T23:34:31.763122",
          "exception": false,
          "start_time": "2024-02-03T23:34:31.744833",
          "status": "completed"
        },
        "tags": [],
        "id": "bb6d0b0c"
      },
      "outputs": [],
      "source": [
        "# Reshaping input data for LSTM.\n",
        "X_train_lstm = X_train.reshape((X_train.shape[0], X_train.shape[1], 1))\n",
        "X_test_lstm = X_test.reshape((X_test.shape[0], X_test.shape[1], 1))"
      ]
    },
    {
      "cell_type": "code",
      "execution_count": null,
      "id": "fe8d3bc6",
      "metadata": {
        "execution": {
          "iopub.execute_input": "2024-02-03T23:34:31.785960Z",
          "iopub.status.busy": "2024-02-03T23:34:31.785315Z",
          "iopub.status.idle": "2024-02-03T23:34:35.551473Z",
          "shell.execute_reply": "2024-02-03T23:34:35.550152Z"
        },
        "papermill": {
          "duration": 3.77963,
          "end_time": "2024-02-03T23:34:35.553185",
          "exception": false,
          "start_time": "2024-02-03T23:34:31.773555",
          "status": "completed"
        },
        "tags": [],
        "colab": {
          "base_uri": "https://localhost:8080/"
        },
        "id": "fe8d3bc6",
        "outputId": "da21bd99-c9b0-4edc-e4b4-6c455269c8df"
      },
      "outputs": [
        {
          "output_type": "stream",
          "name": "stdout",
          "text": [
            "Epoch 1/80\n",
            "\u001b[1m2/2\u001b[0m \u001b[32m━━━━━━━━━━━━━━━━━━━━\u001b[0m\u001b[37m\u001b[0m \u001b[1m3s\u001b[0m 508ms/step - loss: 67697750016.0000 - val_loss: 38125862912.0000\n",
            "Epoch 2/80\n",
            "\u001b[1m2/2\u001b[0m \u001b[32m━━━━━━━━━━━━━━━━━━━━\u001b[0m\u001b[37m\u001b[0m \u001b[1m1s\u001b[0m 85ms/step - loss: 59769106432.0000 - val_loss: 38125842432.0000\n",
            "Epoch 3/80\n",
            "\u001b[1m2/2\u001b[0m \u001b[32m━━━━━━━━━━━━━━━━━━━━\u001b[0m\u001b[37m\u001b[0m \u001b[1m0s\u001b[0m 85ms/step - loss: 71422164992.0000 - val_loss: 38125821952.0000\n",
            "Epoch 4/80\n",
            "\u001b[1m2/2\u001b[0m \u001b[32m━━━━━━━━━━━━━━━━━━━━\u001b[0m\u001b[37m\u001b[0m \u001b[1m0s\u001b[0m 60ms/step - loss: 66100482048.0000 - val_loss: 38125801472.0000\n",
            "Epoch 5/80\n",
            "\u001b[1m2/2\u001b[0m \u001b[32m━━━━━━━━━━━━━━━━━━━━\u001b[0m\u001b[37m\u001b[0m \u001b[1m0s\u001b[0m 63ms/step - loss: 66947854336.0000 - val_loss: 38125776896.0000\n",
            "Epoch 6/80\n",
            "\u001b[1m2/2\u001b[0m \u001b[32m━━━━━━━━━━━━━━━━━━━━\u001b[0m\u001b[37m\u001b[0m \u001b[1m0s\u001b[0m 47ms/step - loss: 66605658112.0000 - val_loss: 38125740032.0000\n",
            "Epoch 7/80\n",
            "\u001b[1m2/2\u001b[0m \u001b[32m━━━━━━━━━━━━━━━━━━━━\u001b[0m\u001b[37m\u001b[0m \u001b[1m0s\u001b[0m 45ms/step - loss: 69523570688.0000 - val_loss: 38125686784.0000\n",
            "Epoch 8/80\n",
            "\u001b[1m2/2\u001b[0m \u001b[32m━━━━━━━━━━━━━━━━━━━━\u001b[0m\u001b[37m\u001b[0m \u001b[1m0s\u001b[0m 52ms/step - loss: 65351782400.0000 - val_loss: 38125572096.0000\n",
            "Epoch 9/80\n",
            "\u001b[1m2/2\u001b[0m \u001b[32m━━━━━━━━━━━━━━━━━━━━\u001b[0m\u001b[37m\u001b[0m \u001b[1m0s\u001b[0m 44ms/step - loss: 65930924032.0000 - val_loss: 38125182976.0000\n",
            "Epoch 10/80\n",
            "\u001b[1m2/2\u001b[0m \u001b[32m━━━━━━━━━━━━━━━━━━━━\u001b[0m\u001b[37m\u001b[0m \u001b[1m0s\u001b[0m 61ms/step - loss: 66439917568.0000 - val_loss: 38117728256.0000\n",
            "Epoch 11/80\n",
            "\u001b[1m2/2\u001b[0m \u001b[32m━━━━━━━━━━━━━━━━━━━━\u001b[0m\u001b[37m\u001b[0m \u001b[1m0s\u001b[0m 56ms/step - loss: 65006710784.0000 - val_loss: 37969694720.0000\n",
            "Epoch 12/80\n",
            "\u001b[1m2/2\u001b[0m \u001b[32m━━━━━━━━━━━━━━━━━━━━\u001b[0m\u001b[37m\u001b[0m \u001b[1m0s\u001b[0m 43ms/step - loss: 67182710784.0000 - val_loss: 36646461440.0000\n",
            "Epoch 13/80\n",
            "\u001b[1m2/2\u001b[0m \u001b[32m━━━━━━━━━━━━━━━━━━━━\u001b[0m\u001b[37m\u001b[0m \u001b[1m0s\u001b[0m 43ms/step - loss: 56541356032.0000 - val_loss: 28442046464.0000\n",
            "Epoch 14/80\n",
            "\u001b[1m2/2\u001b[0m \u001b[32m━━━━━━━━━━━━━━━━━━━━\u001b[0m\u001b[37m\u001b[0m \u001b[1m0s\u001b[0m 42ms/step - loss: 54236798976.0000 - val_loss: 16399468544.0000\n",
            "Epoch 15/80\n",
            "\u001b[1m2/2\u001b[0m \u001b[32m━━━━━━━━━━━━━━━━━━━━\u001b[0m\u001b[37m\u001b[0m \u001b[1m0s\u001b[0m 45ms/step - loss: 49429934080.0000 - val_loss: 17518088192.0000\n",
            "Epoch 16/80\n",
            "\u001b[1m2/2\u001b[0m \u001b[32m━━━━━━━━━━━━━━━━━━━━\u001b[0m\u001b[37m\u001b[0m \u001b[1m0s\u001b[0m 64ms/step - loss: 44902158336.0000 - val_loss: 16447022080.0000\n",
            "Epoch 17/80\n",
            "\u001b[1m2/2\u001b[0m \u001b[32m━━━━━━━━━━━━━━━━━━━━\u001b[0m\u001b[37m\u001b[0m \u001b[1m0s\u001b[0m 43ms/step - loss: 48306184192.0000 - val_loss: 21326280704.0000\n",
            "Epoch 18/80\n",
            "\u001b[1m2/2\u001b[0m \u001b[32m━━━━━━━━━━━━━━━━━━━━\u001b[0m\u001b[37m\u001b[0m \u001b[1m0s\u001b[0m 52ms/step - loss: 48509894656.0000 - val_loss: 17706455040.0000\n",
            "Epoch 19/80\n",
            "\u001b[1m2/2\u001b[0m \u001b[32m━━━━━━━━━━━━━━━━━━━━\u001b[0m\u001b[37m\u001b[0m \u001b[1m0s\u001b[0m 44ms/step - loss: 39642718208.0000 - val_loss: 15344391168.0000\n",
            "Epoch 20/80\n",
            "\u001b[1m2/2\u001b[0m \u001b[32m━━━━━━━━━━━━━━━━━━━━\u001b[0m\u001b[37m\u001b[0m \u001b[1m0s\u001b[0m 35ms/step - loss: 43159396352.0000 - val_loss: 15086895104.0000\n",
            "Epoch 21/80\n",
            "\u001b[1m2/2\u001b[0m \u001b[32m━━━━━━━━━━━━━━━━━━━━\u001b[0m\u001b[37m\u001b[0m \u001b[1m0s\u001b[0m 36ms/step - loss: 43894329344.0000 - val_loss: 18054907904.0000\n",
            "Epoch 22/80\n",
            "\u001b[1m2/2\u001b[0m \u001b[32m━━━━━━━━━━━━━━━━━━━━\u001b[0m\u001b[37m\u001b[0m \u001b[1m0s\u001b[0m 59ms/step - loss: 40943427584.0000 - val_loss: 14721159168.0000\n",
            "Epoch 23/80\n",
            "\u001b[1m2/2\u001b[0m \u001b[32m━━━━━━━━━━━━━━━━━━━━\u001b[0m\u001b[37m\u001b[0m \u001b[1m0s\u001b[0m 38ms/step - loss: 40775233536.0000 - val_loss: 14612225024.0000\n",
            "Epoch 24/80\n",
            "\u001b[1m2/2\u001b[0m \u001b[32m━━━━━━━━━━━━━━━━━━━━\u001b[0m\u001b[37m\u001b[0m \u001b[1m0s\u001b[0m 37ms/step - loss: 43144949760.0000 - val_loss: 16904591360.0000\n",
            "Epoch 25/80\n",
            "\u001b[1m2/2\u001b[0m \u001b[32m━━━━━━━━━━━━━━━━━━━━\u001b[0m\u001b[37m\u001b[0m \u001b[1m0s\u001b[0m 43ms/step - loss: 43479724032.0000 - val_loss: 14273946624.0000\n",
            "Epoch 26/80\n",
            "\u001b[1m2/2\u001b[0m \u001b[32m━━━━━━━━━━━━━━━━━━━━\u001b[0m\u001b[37m\u001b[0m \u001b[1m0s\u001b[0m 49ms/step - loss: 41237585920.0000 - val_loss: 17193664512.0000\n",
            "Epoch 27/80\n",
            "\u001b[1m2/2\u001b[0m \u001b[32m━━━━━━━━━━━━━━━━━━━━\u001b[0m\u001b[37m\u001b[0m \u001b[1m0s\u001b[0m 46ms/step - loss: 36437057536.0000 - val_loss: 13909060608.0000\n",
            "Epoch 28/80\n",
            "\u001b[1m2/2\u001b[0m \u001b[32m━━━━━━━━━━━━━━━━━━━━\u001b[0m\u001b[37m\u001b[0m \u001b[1m0s\u001b[0m 61ms/step - loss: 39040155648.0000 - val_loss: 13762523136.0000\n",
            "Epoch 29/80\n",
            "\u001b[1m2/2\u001b[0m \u001b[32m━━━━━━━━━━━━━━━━━━━━\u001b[0m\u001b[37m\u001b[0m \u001b[1m0s\u001b[0m 43ms/step - loss: 41502822400.0000 - val_loss: 13586033664.0000\n",
            "Epoch 30/80\n",
            "\u001b[1m2/2\u001b[0m \u001b[32m━━━━━━━━━━━━━━━━━━━━\u001b[0m\u001b[37m\u001b[0m \u001b[1m0s\u001b[0m 42ms/step - loss: 38772232192.0000 - val_loss: 13958343680.0000\n",
            "Epoch 31/80\n",
            "\u001b[1m2/2\u001b[0m \u001b[32m━━━━━━━━━━━━━━━━━━━━\u001b[0m\u001b[37m\u001b[0m \u001b[1m0s\u001b[0m 46ms/step - loss: 36956073984.0000 - val_loss: 13482479616.0000\n",
            "Epoch 32/80\n",
            "\u001b[1m2/2\u001b[0m \u001b[32m━━━━━━━━━━━━━━━━━━━━\u001b[0m\u001b[37m\u001b[0m \u001b[1m0s\u001b[0m 43ms/step - loss: 43409043456.0000 - val_loss: 17498032128.0000\n",
            "Epoch 33/80\n",
            "\u001b[1m2/2\u001b[0m \u001b[32m━━━━━━━━━━━━━━━━━━━━\u001b[0m\u001b[37m\u001b[0m \u001b[1m0s\u001b[0m 43ms/step - loss: 43754450944.0000 - val_loss: 13853709312.0000\n",
            "Epoch 34/80\n",
            "\u001b[1m2/2\u001b[0m \u001b[32m━━━━━━━━━━━━━━━━━━━━\u001b[0m\u001b[37m\u001b[0m \u001b[1m0s\u001b[0m 44ms/step - loss: 36457250816.0000 - val_loss: 13758978048.0000\n",
            "Epoch 35/80\n",
            "\u001b[1m2/2\u001b[0m \u001b[32m━━━━━━━━━━━━━━━━━━━━\u001b[0m\u001b[37m\u001b[0m \u001b[1m0s\u001b[0m 51ms/step - loss: 41589075968.0000 - val_loss: 16594579456.0000\n",
            "Epoch 36/80\n",
            "\u001b[1m2/2\u001b[0m \u001b[32m━━━━━━━━━━━━━━━━━━━━\u001b[0m\u001b[37m\u001b[0m \u001b[1m0s\u001b[0m 49ms/step - loss: 36857712640.0000 - val_loss: 12556745728.0000\n",
            "Epoch 37/80\n",
            "\u001b[1m2/2\u001b[0m \u001b[32m━━━━━━━━━━━━━━━━━━━━\u001b[0m\u001b[37m\u001b[0m \u001b[1m0s\u001b[0m 36ms/step - loss: 35601457152.0000 - val_loss: 12876727296.0000\n",
            "Epoch 38/80\n",
            "\u001b[1m2/2\u001b[0m \u001b[32m━━━━━━━━━━━━━━━━━━━━\u001b[0m\u001b[37m\u001b[0m \u001b[1m0s\u001b[0m 36ms/step - loss: 35604934656.0000 - val_loss: 12793900032.0000\n",
            "Epoch 39/80\n",
            "\u001b[1m2/2\u001b[0m \u001b[32m━━━━━━━━━━━━━━━━━━━━\u001b[0m\u001b[37m\u001b[0m \u001b[1m0s\u001b[0m 37ms/step - loss: 35709718528.0000 - val_loss: 12481284096.0000\n",
            "Epoch 40/80\n",
            "\u001b[1m2/2\u001b[0m \u001b[32m━━━━━━━━━━━━━━━━━━━━\u001b[0m\u001b[37m\u001b[0m \u001b[1m0s\u001b[0m 44ms/step - loss: 39630118912.0000 - val_loss: 11924170752.0000\n",
            "Epoch 41/80\n",
            "\u001b[1m2/2\u001b[0m \u001b[32m━━━━━━━━━━━━━━━━━━━━\u001b[0m\u001b[37m\u001b[0m \u001b[1m0s\u001b[0m 43ms/step - loss: 37148221440.0000 - val_loss: 12324370432.0000\n",
            "Epoch 42/80\n",
            "\u001b[1m2/2\u001b[0m \u001b[32m━━━━━━━━━━━━━━━━━━━━\u001b[0m\u001b[37m\u001b[0m \u001b[1m0s\u001b[0m 49ms/step - loss: 38236958720.0000 - val_loss: 12399864832.0000\n",
            "Epoch 43/80\n",
            "\u001b[1m2/2\u001b[0m \u001b[32m━━━━━━━━━━━━━━━━━━━━\u001b[0m\u001b[37m\u001b[0m \u001b[1m0s\u001b[0m 46ms/step - loss: 38708289536.0000 - val_loss: 14829569024.0000\n",
            "Epoch 44/80\n",
            "\u001b[1m2/2\u001b[0m \u001b[32m━━━━━━━━━━━━━━━━━━━━\u001b[0m\u001b[37m\u001b[0m \u001b[1m0s\u001b[0m 37ms/step - loss: 38465196032.0000 - val_loss: 11452151808.0000\n",
            "Epoch 45/80\n",
            "\u001b[1m2/2\u001b[0m \u001b[32m━━━━━━━━━━━━━━━━━━━━\u001b[0m\u001b[37m\u001b[0m \u001b[1m0s\u001b[0m 37ms/step - loss: 38495846400.0000 - val_loss: 13533160448.0000\n",
            "Epoch 46/80\n",
            "\u001b[1m2/2\u001b[0m \u001b[32m━━━━━━━━━━━━━━━━━━━━\u001b[0m\u001b[37m\u001b[0m \u001b[1m0s\u001b[0m 40ms/step - loss: 38818541568.0000 - val_loss: 13393028096.0000\n",
            "Epoch 47/80\n",
            "\u001b[1m2/2\u001b[0m \u001b[32m━━━━━━━━━━━━━━━━━━━━\u001b[0m\u001b[37m\u001b[0m \u001b[1m0s\u001b[0m 37ms/step - loss: 37021405184.0000 - val_loss: 11282809856.0000\n",
            "Epoch 48/80\n",
            "\u001b[1m2/2\u001b[0m \u001b[32m━━━━━━━━━━━━━━━━━━━━\u001b[0m\u001b[37m\u001b[0m \u001b[1m0s\u001b[0m 37ms/step - loss: 34900193280.0000 - val_loss: 10813316096.0000\n",
            "Epoch 49/80\n",
            "\u001b[1m2/2\u001b[0m \u001b[32m━━━━━━━━━━━━━━━━━━━━\u001b[0m\u001b[37m\u001b[0m \u001b[1m0s\u001b[0m 40ms/step - loss: 38157959168.0000 - val_loss: 14707942400.0000\n",
            "Epoch 50/80\n",
            "\u001b[1m2/2\u001b[0m \u001b[32m━━━━━━━━━━━━━━━━━━━━\u001b[0m\u001b[37m\u001b[0m \u001b[1m0s\u001b[0m 39ms/step - loss: 37060505600.0000 - val_loss: 10936422400.0000\n",
            "Epoch 51/80\n",
            "\u001b[1m2/2\u001b[0m \u001b[32m━━━━━━━━━━━━━━━━━━━━\u001b[0m\u001b[37m\u001b[0m \u001b[1m0s\u001b[0m 38ms/step - loss: 34991427584.0000 - val_loss: 10559659008.0000\n",
            "Epoch 52/80\n",
            "\u001b[1m2/2\u001b[0m \u001b[32m━━━━━━━━━━━━━━━━━━━━\u001b[0m\u001b[37m\u001b[0m \u001b[1m0s\u001b[0m 49ms/step - loss: 31641094144.0000 - val_loss: 10274385920.0000\n",
            "Epoch 53/80\n",
            "\u001b[1m2/2\u001b[0m \u001b[32m━━━━━━━━━━━━━━━━━━━━\u001b[0m\u001b[37m\u001b[0m \u001b[1m0s\u001b[0m 41ms/step - loss: 31315255296.0000 - val_loss: 11167892480.0000\n",
            "Epoch 54/80\n",
            "\u001b[1m2/2\u001b[0m \u001b[32m━━━━━━━━━━━━━━━━━━━━\u001b[0m\u001b[37m\u001b[0m \u001b[1m0s\u001b[0m 39ms/step - loss: 35401068544.0000 - val_loss: 10744634368.0000\n",
            "Epoch 55/80\n",
            "\u001b[1m2/2\u001b[0m \u001b[32m━━━━━━━━━━━━━━━━━━━━\u001b[0m\u001b[37m\u001b[0m \u001b[1m0s\u001b[0m 40ms/step - loss: 34340546560.0000 - val_loss: 9858335744.0000\n",
            "Epoch 56/80\n",
            "\u001b[1m2/2\u001b[0m \u001b[32m━━━━━━━━━━━━━━━━━━━━\u001b[0m\u001b[37m\u001b[0m \u001b[1m0s\u001b[0m 39ms/step - loss: 33160226816.0000 - val_loss: 9898117120.0000\n",
            "Epoch 57/80\n",
            "\u001b[1m2/2\u001b[0m \u001b[32m━━━━━━━━━━━━━━━━━━━━\u001b[0m\u001b[37m\u001b[0m \u001b[1m0s\u001b[0m 39ms/step - loss: 33259636736.0000 - val_loss: 9597927424.0000\n",
            "Epoch 58/80\n",
            "\u001b[1m2/2\u001b[0m \u001b[32m━━━━━━━━━━━━━━━━━━━━\u001b[0m\u001b[37m\u001b[0m \u001b[1m0s\u001b[0m 39ms/step - loss: 30152787968.0000 - val_loss: 9446213632.0000\n",
            "Epoch 59/80\n",
            "\u001b[1m2/2\u001b[0m \u001b[32m━━━━━━━━━━━━━━━━━━━━\u001b[0m\u001b[37m\u001b[0m \u001b[1m0s\u001b[0m 36ms/step - loss: 32682334208.0000 - val_loss: 9788620800.0000\n",
            "Epoch 60/80\n",
            "\u001b[1m2/2\u001b[0m \u001b[32m━━━━━━━━━━━━━━━━━━━━\u001b[0m\u001b[37m\u001b[0m \u001b[1m0s\u001b[0m 38ms/step - loss: 31450996736.0000 - val_loss: 9427701760.0000\n",
            "Epoch 61/80\n",
            "\u001b[1m2/2\u001b[0m \u001b[32m━━━━━━━━━━━━━━━━━━━━\u001b[0m\u001b[37m\u001b[0m \u001b[1m0s\u001b[0m 37ms/step - loss: 31469137920.0000 - val_loss: 10299525120.0000\n",
            "Epoch 62/80\n",
            "\u001b[1m2/2\u001b[0m \u001b[32m━━━━━━━━━━━━━━━━━━━━\u001b[0m\u001b[37m\u001b[0m \u001b[1m0s\u001b[0m 48ms/step - loss: 28552493056.0000 - val_loss: 8662940672.0000\n",
            "Epoch 63/80\n",
            "\u001b[1m2/2\u001b[0m \u001b[32m━━━━━━━━━━━━━━━━━━━━\u001b[0m\u001b[37m\u001b[0m \u001b[1m0s\u001b[0m 46ms/step - loss: 33474553856.0000 - val_loss: 12089520128.0000\n",
            "Epoch 64/80\n",
            "\u001b[1m2/2\u001b[0m \u001b[32m━━━━━━━━━━━━━━━━━━━━\u001b[0m\u001b[37m\u001b[0m \u001b[1m0s\u001b[0m 44ms/step - loss: 35050471424.0000 - val_loss: 8634573824.0000\n",
            "Epoch 65/80\n",
            "\u001b[1m2/2\u001b[0m \u001b[32m━━━━━━━━━━━━━━━━━━━━\u001b[0m\u001b[37m\u001b[0m \u001b[1m0s\u001b[0m 39ms/step - loss: 26559649792.0000 - val_loss: 9867852800.0000\n",
            "Epoch 66/80\n",
            "\u001b[1m2/2\u001b[0m \u001b[32m━━━━━━━━━━━━━━━━━━━━\u001b[0m\u001b[37m\u001b[0m \u001b[1m0s\u001b[0m 47ms/step - loss: 28735725568.0000 - val_loss: 8369687040.0000\n",
            "Epoch 67/80\n",
            "\u001b[1m2/2\u001b[0m \u001b[32m━━━━━━━━━━━━━━━━━━━━\u001b[0m\u001b[37m\u001b[0m \u001b[1m0s\u001b[0m 37ms/step - loss: 28789340160.0000 - val_loss: 9307096064.0000\n",
            "Epoch 68/80\n",
            "\u001b[1m2/2\u001b[0m \u001b[32m━━━━━━━━━━━━━━━━━━━━\u001b[0m\u001b[37m\u001b[0m \u001b[1m0s\u001b[0m 37ms/step - loss: 29339340800.0000 - val_loss: 8306138624.0000\n",
            "Epoch 69/80\n",
            "\u001b[1m2/2\u001b[0m \u001b[32m━━━━━━━━━━━━━━━━━━━━\u001b[0m\u001b[37m\u001b[0m \u001b[1m0s\u001b[0m 35ms/step - loss: 26146883584.0000 - val_loss: 8634231808.0000\n",
            "Epoch 70/80\n",
            "\u001b[1m2/2\u001b[0m \u001b[32m━━━━━━━━━━━━━━━━━━━━\u001b[0m\u001b[37m\u001b[0m \u001b[1m0s\u001b[0m 36ms/step - loss: 28426780672.0000 - val_loss: 9133081600.0000\n",
            "Epoch 71/80\n",
            "\u001b[1m2/2\u001b[0m \u001b[32m━━━━━━━━━━━━━━━━━━━━\u001b[0m\u001b[37m\u001b[0m \u001b[1m0s\u001b[0m 38ms/step - loss: 24442439680.0000 - val_loss: 9047916544.0000\n",
            "Epoch 72/80\n",
            "\u001b[1m2/2\u001b[0m \u001b[32m━━━━━━━━━━━━━━━━━━━━\u001b[0m\u001b[37m\u001b[0m \u001b[1m0s\u001b[0m 45ms/step - loss: 26546096128.0000 - val_loss: 7348677632.0000\n",
            "Epoch 73/80\n",
            "\u001b[1m2/2\u001b[0m \u001b[32m━━━━━━━━━━━━━━━━━━━━\u001b[0m\u001b[37m\u001b[0m \u001b[1m0s\u001b[0m 52ms/step - loss: 24060008448.0000 - val_loss: 7345195520.0000\n",
            "Epoch 74/80\n",
            "\u001b[1m2/2\u001b[0m \u001b[32m━━━━━━━━━━━━━━━━━━━━\u001b[0m\u001b[37m\u001b[0m \u001b[1m0s\u001b[0m 37ms/step - loss: 23871178752.0000 - val_loss: 9026025472.0000\n",
            "Epoch 75/80\n",
            "\u001b[1m2/2\u001b[0m \u001b[32m━━━━━━━━━━━━━━━━━━━━\u001b[0m\u001b[37m\u001b[0m \u001b[1m0s\u001b[0m 40ms/step - loss: 25810999296.0000 - val_loss: 9295559680.0000\n",
            "Epoch 76/80\n",
            "\u001b[1m2/2\u001b[0m \u001b[32m━━━━━━━━━━━━━━━━━━━━\u001b[0m\u001b[37m\u001b[0m \u001b[1m0s\u001b[0m 42ms/step - loss: 23823861760.0000 - val_loss: 6986694656.0000\n",
            "Epoch 77/80\n",
            "\u001b[1m2/2\u001b[0m \u001b[32m━━━━━━━━━━━━━━━━━━━━\u001b[0m\u001b[37m\u001b[0m \u001b[1m0s\u001b[0m 42ms/step - loss: 23857395712.0000 - val_loss: 6944210944.0000\n",
            "Epoch 78/80\n",
            "\u001b[1m2/2\u001b[0m \u001b[32m━━━━━━━━━━━━━━━━━━━━\u001b[0m\u001b[37m\u001b[0m \u001b[1m0s\u001b[0m 44ms/step - loss: 25101449216.0000 - val_loss: 6195629568.0000\n",
            "Epoch 79/80\n",
            "\u001b[1m2/2\u001b[0m \u001b[32m━━━━━━━━━━━━━━━━━━━━\u001b[0m\u001b[37m\u001b[0m \u001b[1m0s\u001b[0m 43ms/step - loss: 22716518400.0000 - val_loss: 7548514816.0000\n",
            "Epoch 80/80\n",
            "\u001b[1m2/2\u001b[0m \u001b[32m━━━━━━━━━━━━━━━━━━━━\u001b[0m\u001b[37m\u001b[0m \u001b[1m0s\u001b[0m 44ms/step - loss: 21978193920.0000 - val_loss: 6313634304.0000\n"
          ]
        },
        {
          "output_type": "execute_result",
          "data": {
            "text/plain": [
              "<keras.src.callbacks.history.History at 0x797959aa6530>"
            ]
          },
          "metadata": {},
          "execution_count": 26
        }
      ],
      "source": [
        "model_rnn.fit(X_train_lstm, y_train, epochs=80, batch_size=32, validation_data=(X_test_lstm, y_test))"
      ]
    },
    {
      "cell_type": "markdown",
      "id": "64efb24b",
      "metadata": {
        "papermill": {
          "duration": 0.019121,
          "end_time": "2024-02-03T23:34:35.632169",
          "exception": false,
          "start_time": "2024-02-03T23:34:35.613048",
          "status": "completed"
        },
        "tags": [],
        "id": "64efb24b"
      },
      "source": [
        "# Evaluating The Model."
      ]
    },
    {
      "cell_type": "code",
      "execution_count": null,
      "id": "95f6549b",
      "metadata": {
        "execution": {
          "iopub.execute_input": "2024-02-03T23:34:35.672826Z",
          "iopub.status.busy": "2024-02-03T23:34:35.672473Z",
          "iopub.status.idle": "2024-02-03T23:34:35.677836Z",
          "shell.execute_reply": "2024-02-03T23:34:35.676815Z"
        },
        "papermill": {
          "duration": 0.027235,
          "end_time": "2024-02-03T23:34:35.679511",
          "exception": false,
          "start_time": "2024-02-03T23:34:35.652276",
          "status": "completed"
        },
        "tags": [],
        "id": "95f6549b"
      },
      "outputs": [],
      "source": [
        "# Creating evaluater function.\n",
        "def evaluate_model(model, X_test, y_test):\n",
        "    y_pred = model.predict(X_test)\n",
        "    y_pred = y_pred.reshape((y_pred.shape[0],))\n",
        "    scores = {\n",
        "        \"R2\": r2_score(y_test, y_pred),\n",
        "        \"MAE\": mean_absolute_error(y_test, y_pred),\n",
        "        \"MSE\": mean_squared_error(y_test, y_pred),\n",
        "    }\n",
        "    return scores"
      ]
    },
    {
      "cell_type": "code",
      "execution_count": null,
      "id": "fbd01611",
      "metadata": {
        "execution": {
          "iopub.execute_input": "2024-02-03T23:34:35.719553Z",
          "iopub.status.busy": "2024-02-03T23:34:35.718556Z",
          "iopub.status.idle": "2024-02-03T23:34:35.926508Z",
          "shell.execute_reply": "2024-02-03T23:34:35.925278Z"
        },
        "papermill": {
          "duration": 0.229644,
          "end_time": "2024-02-03T23:34:35.928334",
          "exception": false,
          "start_time": "2024-02-03T23:34:35.698690",
          "status": "completed"
        },
        "scrolled": true,
        "tags": [],
        "colab": {
          "base_uri": "https://localhost:8080/"
        },
        "id": "fbd01611",
        "outputId": "ee5c5f11-75f9-4eef-8878-7193da221212"
      },
      "outputs": [
        {
          "output_type": "stream",
          "name": "stdout",
          "text": [
            "\u001b[1m1/1\u001b[0m \u001b[32m━━━━━━━━━━━━━━━━━━━━\u001b[0m\u001b[37m\u001b[0m \u001b[1m0s\u001b[0m 235ms/step\n",
            "RNN Model Scores:\n",
            "{'R2': 0.13101567077596876, 'MAE': 67647.8194551282, 'MSE': 6313634027.62231}\n"
          ]
        }
      ],
      "source": [
        "# Applying evaluater function on RNN model.\n",
        "scores_rnn = evaluate_model(model_rnn, X_test_lstm, y_test)\n",
        "print(\"RNN Model Scores:\")\n",
        "print(scores_rnn)"
      ]
    },
    {
      "cell_type": "code",
      "execution_count": null,
      "id": "5428a17f",
      "metadata": {
        "execution": {
          "iopub.execute_input": "2024-02-03T23:34:35.970402Z",
          "iopub.status.busy": "2024-02-03T23:34:35.970065Z",
          "iopub.status.idle": "2024-02-03T23:34:35.975573Z",
          "shell.execute_reply": "2024-02-03T23:34:35.974614Z"
        },
        "papermill": {
          "duration": 0.028955,
          "end_time": "2024-02-03T23:34:35.977258",
          "exception": false,
          "start_time": "2024-02-03T23:34:35.948303",
          "status": "completed"
        },
        "tags": [],
        "colab": {
          "base_uri": "https://localhost:8080/"
        },
        "id": "5428a17f",
        "outputId": "39bba714-f32d-4944-b0e8-70637ecaf3ce"
      },
      "outputs": [
        {
          "output_type": "stream",
          "name": "stdout",
          "text": [
            "\n",
            "RNN Model Scores:\n",
            "R2: 13.10%\n",
            "MAE: 67647.82\n",
            "MSE: 6313634027.62\n"
          ]
        }
      ],
      "source": [
        "# RNN Evaluation percentage.\n",
        "print(\"\\nRNN Model Scores:\")\n",
        "print(\"R2: {:.2%}\".format(scores_rnn['R2']))\n",
        "print(\"MAE: {:.2f}\".format(scores_rnn['MAE']))\n",
        "print(\"MSE: {:.2f}\".format(scores_rnn['MSE']))"
      ]
    },
    {
      "cell_type": "markdown",
      "id": "d8e2547f",
      "metadata": {
        "papermill": {
          "duration": 0.018793,
          "end_time": "2024-02-03T23:34:36.015564",
          "exception": false,
          "start_time": "2024-02-03T23:34:35.996771",
          "status": "completed"
        },
        "tags": [],
        "id": "d8e2547f"
      },
      "source": [
        "# Final Results Visualizations for RNN-LSTM"
      ]
    },
    {
      "cell_type": "code",
      "execution_count": null,
      "id": "7e0514fc",
      "metadata": {
        "execution": {
          "iopub.execute_input": "2024-02-03T23:34:36.056133Z",
          "iopub.status.busy": "2024-02-03T23:34:36.055132Z",
          "iopub.status.idle": "2024-02-03T23:34:36.354484Z",
          "shell.execute_reply": "2024-02-03T23:34:36.353609Z"
        },
        "papermill": {
          "duration": 0.322005,
          "end_time": "2024-02-03T23:34:36.356921",
          "exception": false,
          "start_time": "2024-02-03T23:34:36.034916",
          "status": "completed"
        },
        "tags": [],
        "colab": {
          "base_uri": "https://localhost:8080/",
          "height": 525
        },
        "id": "7e0514fc",
        "outputId": "46ba34db-98c1-485c-b5f4-e59eed36677d"
      },
      "outputs": [
        {
          "output_type": "stream",
          "name": "stdout",
          "text": [
            "\u001b[1m1/1\u001b[0m \u001b[32m━━━━━━━━━━━━━━━━━━━━\u001b[0m\u001b[37m\u001b[0m \u001b[1m0s\u001b[0m 33ms/step\n"
          ]
        },
        {
          "output_type": "display_data",
          "data": {
            "text/plain": [
              "<Figure size 1100x600 with 1 Axes>"
            ],
            "image/png": "[encoded data removed]"
          },
          "metadata": {}
        }
      ],
      "source": [
        "# Visualizing predictions vs actual values for RNN model.\n",
        "fig=plt.figure(figsize=(11, 6))\n",
        "plt.plot(y_test.values, label='Actual CO2 Emissions')\n",
        "plt.plot(model_rnn.predict(X_test_lstm), label='Predicted CO2 Emissions (RNN)')\n",
        "plt.title('RNN (LSTM) Model - Actual vs Predicted CO2 Emissions (Solid Fuel Consumption)')\n",
        "plt.xlabel('Samples')\n",
        "plt.ylabel('CO2 Emissions (kt)')\n",
        "plt.legend()\n",
        "rnn_base64 = fig_to_base64(fig)\n",
        "plt.show()"
      ]
    },
    {
      "cell_type": "markdown",
      "source": [
        "# XGBoost Regressor (XGBRegressor):"
      ],
      "metadata": {
        "id": "TpZE5eX2ckcn"
      },
      "id": "TpZE5eX2ckcn"
    },
    {
      "cell_type": "markdown",
      "source": [
        "XGBoost Regressor (XGBRegressor):\n",
        "This is a gradient boosting model that is effective for regression tasks. It combines multiple weak learners (decision trees) to improve prediction accuracy.\n",
        "\n",
        "Random Forest Regressor (RandomForestRegressor):\n",
        "This model is an ensemble learning method that builds multiple decision trees during training and outputs the average prediction (for regression) of the individual trees. It helps reduce overfitting and improves accuracy.\n",
        "\n",
        "Stacked Regressor:\n",
        "This is a custom neural network model that combines predictions from both the XGBoost and Random Forest models. However, the implementation currently has an issue where it attempts to fit a RandomForestRegressor inside the forward method, which isn't typical for a stacked ensemble. Instead, it should be used to generate predictions based on the outputs from the two base models.\n",
        "Model Workflow:\n",
        "Step 1: Train the XGBoost and Random Forest models separately on the training data.\n",
        "Step 2: Create a stacked model that combines predictions from both the XGBoost and Random Forest models to make final predictions."
      ],
      "metadata": {
        "id": "LIyfq2FIdx5q"
      },
      "id": "LIyfq2FIdx5q"
    },
    {
      "cell_type": "code",
      "source": [
        "!pip install --upgrade xgboost\n"
      ],
      "metadata": {
        "colab": {
          "base_uri": "https://localhost:8080/"
        },
        "id": "4eMhUNfFR7mc",
        "outputId": "eb983d2e-b193-4379-d75c-4e522c9f4562"
      },
      "id": "4eMhUNfFR7mc",
      "execution_count": null,
      "outputs": [
        {
          "output_type": "stream",
          "name": "stdout",
          "text": [
            "Requirement already satisfied: xgboost in /usr/local/lib/python3.10/dist-packages (2.1.1)\n",
            "Requirement already satisfied: numpy in /usr/local/lib/python3.10/dist-packages (from xgboost) (1.26.4)\n",
            "Requirement already satisfied: nvidia-nccl-cu12 in /usr/local/lib/python3.10/dist-packages (from xgboost) (2.23.4)\n",
            "Requirement already satisfied: scipy in /usr/local/lib/python3.10/dist-packages (from xgboost) (1.13.1)\n"
          ]
        }
      ]
    },
    {
      "cell_type": "code",
      "source": [
        "xgb_model = XGBRegressor(n_estimators=50, max_depth=2, learning_rate=0.1, reg_alpha= 1, reg_lambda= 0,verbosity = 1, random_state =0, early_stopping_rounds = 10)\n",
        "#max_dept from 5 to 3, reg_lambda=1.0,   L2 regularization\n",
        "    #reg_alpha=0.5,   L1 regularization to stop overfitting\n",
        "xgb_model.fit(X_train, y_train,eval_set=[(X_test, y_test)])\n",
        "xgb_scores = {\n",
        "    \"R2\": r2_score(y_test, xgb_model.predict(X_test),),\n",
        "    \"MAE\": mean_absolute_error(y_test, xgb_model.predict(X_test)),\n",
        "    \"MSE\": mean_squared_error(y_test, xgb_model.predict(X_test)),\n",
        "}\n",
        "print(\"XGBoost Model Scores:\")\n",
        "print(xgb_scores)\n"
      ],
      "metadata": {
        "colab": {
          "base_uri": "https://localhost:8080/"
        },
        "id": "z-j0qEalcjnN",
        "outputId": "1583e2c0-01bd-4b94-c9d7-f9ef687d902d"
      },
      "id": "z-j0qEalcjnN",
      "execution_count": null,
      "outputs": [
        {
          "output_type": "stream",
          "name": "stdout",
          "text": [
            "[0]\tvalidation_0-rmse:80140.54102\n",
            "[1]\tvalidation_0-rmse:73121.62899\n",
            "[2]\tvalidation_0-rmse:65220.91987\n",
            "[3]\tvalidation_0-rmse:58143.26254\n",
            "[4]\tvalidation_0-rmse:52937.42080\n",
            "[5]\tvalidation_0-rmse:48376.21489\n",
            "[6]\tvalidation_0-rmse:43858.34032\n",
            "[7]\tvalidation_0-rmse:40189.00801\n",
            "[8]\tvalidation_0-rmse:36724.03461\n",
            "[9]\tvalidation_0-rmse:33228.61012\n",
            "[10]\tvalidation_0-rmse:31016.31514\n",
            "[11]\tvalidation_0-rmse:27989.36634\n",
            "[12]\tvalidation_0-rmse:25779.35154\n",
            "[13]\tvalidation_0-rmse:24578.02045\n",
            "[14]\tvalidation_0-rmse:22498.99961\n",
            "[15]\tvalidation_0-rmse:21454.21114\n",
            "[16]\tvalidation_0-rmse:19733.91782\n",
            "[17]\tvalidation_0-rmse:18191.53752\n",
            "[18]\tvalidation_0-rmse:16935.87290\n",
            "[19]\tvalidation_0-rmse:16317.87033\n",
            "[20]\tvalidation_0-rmse:15031.48110\n",
            "[21]\tvalidation_0-rmse:14478.62646\n",
            "[22]\tvalidation_0-rmse:13434.86453\n",
            "[23]\tvalidation_0-rmse:12751.29409\n",
            "[24]\tvalidation_0-rmse:12230.84791\n",
            "[25]\tvalidation_0-rmse:11424.00380\n",
            "[26]\tvalidation_0-rmse:10703.48445\n",
            "[27]\tvalidation_0-rmse:10024.21397\n",
            "[28]\tvalidation_0-rmse:9537.99213\n",
            "[29]\tvalidation_0-rmse:9012.53355\n",
            "[30]\tvalidation_0-rmse:8551.54092\n",
            "[31]\tvalidation_0-rmse:8364.68342\n",
            "[32]\tvalidation_0-rmse:7917.47593\n",
            "[33]\tvalidation_0-rmse:7791.13113\n",
            "[34]\tvalidation_0-rmse:7561.34703\n",
            "[35]\tvalidation_0-rmse:7247.32259\n",
            "[36]\tvalidation_0-rmse:7126.20358\n",
            "[37]\tvalidation_0-rmse:6922.24483\n",
            "[38]\tvalidation_0-rmse:6775.38350\n",
            "[39]\tvalidation_0-rmse:6696.53346\n",
            "[40]\tvalidation_0-rmse:6560.20531\n",
            "[41]\tvalidation_0-rmse:6504.70823\n",
            "[42]\tvalidation_0-rmse:6398.07669\n",
            "[43]\tvalidation_0-rmse:6299.49522\n",
            "[44]\tvalidation_0-rmse:6214.90500\n",
            "[45]\tvalidation_0-rmse:6147.55038\n",
            "[46]\tvalidation_0-rmse:6125.62840\n",
            "[47]\tvalidation_0-rmse:6064.03615\n",
            "[48]\tvalidation_0-rmse:5987.16198\n",
            "[49]\tvalidation_0-rmse:5962.54695\n",
            "XGBoost Model Scores:\n",
            "{'R2': 0.9951067640038301, 'MAE': 5240.098959535264, 'MSE': 35551965.957995616}\n"
          ]
        }
      ]
    },
    {
      "cell_type": "code",
      "source": [
        "# Visualizing predictions vs actual values for XGBoost model\n",
        "fig=plt.figure(figsize=(11, 6))\n",
        "plt.plot(y_test.values, label='Actual CO2 Emissions', color='blue')\n",
        "plt.plot(xgb_model.predict(X_test), label='Predicted CO2 Emissions (XGBoost)', color='orange')\n",
        "plt.title('XGBoost Model - Actual vs Predicted CO2 Emissions (Liquid Fuel Consumption)')\n",
        "plt.xlabel('Samples')\n",
        "plt.ylabel('CO2 Emissions (kt)')\n",
        "plt.legend()\n",
        "plt.grid(True)\n",
        "xgb_base64 = fig_to_base64(fig)\n",
        "plt.show()\n"
      ],
      "metadata": {
        "colab": {
          "base_uri": "https://localhost:8080/",
          "height": 508
        },
        "id": "hlhiPa2_eyam",
        "outputId": "af4993db-9c63-48f4-d3d3-19adebbcceca"
      },
      "id": "hlhiPa2_eyam",
      "execution_count": null,
      "outputs": [
        {
          "output_type": "display_data",
          "data": {
            "text/plain": [
              "<Figure size 1100x600 with 1 Axes>"
            ],
            "image/png": "[encoded data removed]"
          },
          "metadata": {}
        }
      ]
    },
    {
      "cell_type": "markdown",
      "source": [
        "#Random forest"
      ],
      "metadata": {
        "id": "m83MziLmf6Qy"
      },
      "id": "m83MziLmf6Qy"
    },
    {
      "cell_type": "code",
      "source": [
        "# Random Forest Model\n",
        "rf_model = RandomForestRegressor(n_estimators=50, random_state=0) #100 to 50\n",
        "rf_model.fit(X_train, y_train)\n",
        "rf_scores = {\n",
        "    \"R2\": r2_score(y_test, rf_model.predict(X_test)),\n",
        "    \"MAE\": mean_absolute_error(y_test, rf_model.predict(X_test)),\n",
        "    \"MSE\": mean_squared_error(y_test, rf_model.predict(X_test)),\n",
        "}\n",
        "print(\"Random Forest Model Scores:\")\n",
        "print(rf_scores)\n"
      ],
      "metadata": {
        "colab": {
          "base_uri": "https://localhost:8080/"
        },
        "id": "Wk9y7XxYdLwF",
        "outputId": "81a97951-ab7a-4ee5-f5b3-a2d6a978d365"
      },
      "id": "Wk9y7XxYdLwF",
      "execution_count": null,
      "outputs": [
        {
          "output_type": "stream",
          "name": "stdout",
          "text": [
            "Random Forest Model Scores:\n",
            "{'R2': 0.994973360895527, 'MAE': 4369.533262564118, 'MSE': 36521210.598719}\n"
          ]
        }
      ]
    },
    {
      "cell_type": "code",
      "source": [
        "# Visualizing predictions vs actual values for Random Forest model\n",
        "fig=plt.figure(figsize=(11, 6))\n",
        "plt.plot(y_test.values, label='Actual CO2 Emissions', color='blue')\n",
        "plt.plot(rf_model.predict(X_test), label='Predicted CO2 Emissions (Random Forest)', color='green')\n",
        "plt.title('Random Forest Model - Actual vs Predicted CO2 Emissions (Liquid Fuel Consumption)')\n",
        "plt.xlabel('Samples')\n",
        "plt.ylabel('CO2 Emissions (kt)')\n",
        "plt.legend()\n",
        "plt.grid(True)\n",
        "rf_base64 = fig_to_base64(fig)\n",
        "plt.show()\n"
      ],
      "metadata": {
        "colab": {
          "base_uri": "https://localhost:8080/",
          "height": 508
        },
        "id": "vPYrGNEkftTP",
        "outputId": "113de2dc-3432-4efb-c429-c6c7dcac271e"
      },
      "id": "vPYrGNEkftTP",
      "execution_count": null,
      "outputs": [
        {
          "output_type": "display_data",
          "data": {
            "text/plain": [
              "<Figure size 1100x600 with 1 Axes>"
            ],
            "image/png": "[encoded data removed]"
          },
          "metadata": {}
        }
      ]
    },
    {
      "cell_type": "markdown",
      "source": [
        "# Stacked ensemble"
      ],
      "metadata": {
        "id": "eAkbCeKVf01e"
      },
      "id": "eAkbCeKVf01e"
    },
    {
      "cell_type": "code",
      "source": [
        "\n",
        "# Stacked Ensemble\n",
        "class StackedRegressor(nn.Module):\n",
        "    def __init__(self, xgb_model, rf_model):\n",
        "        super(StackedRegressor, self).__init__()\n",
        "        self.xgb_model = xgb_model\n",
        "        self.rf_model = rf_model\n",
        "        self.regressor = RandomForestRegressor(n_estimators=100, random_state=0)\n",
        "\n",
        "    def forward(self, X_xgb, X_rf):\n",
        "        xgb_preds = self.xgb_model.predict(X_xgb)\n",
        "        rf_preds = self.rf_model.predict(X_rf)\n",
        "        stacked_input = np.column_stack((xgb_preds, rf_preds))\n",
        "        output = self.regressor.fit(stacked_input, y_train)  # Training the regressor\n",
        "        return output\n"
      ],
      "metadata": {
        "id": "24Pt4xopdMwQ"
      },
      "id": "24Pt4xopdMwQ",
      "execution_count": null,
      "outputs": []
    },
    {
      "cell_type": "code",
      "source": [
        "stacked_model = StackedRegressor(xgb_model, rf_model)\n",
        "\n",
        "# Prepare the input for the stacked model\n",
        "stacked_model_input = np.column_stack((xgb_model.predict(X_train), rf_model.predict(X_train)))\n",
        "stacked_model_output = stacked_model.forward(X_train, X_train)\n"
      ],
      "metadata": {
        "id": "LRWJD4zRdPyf"
      },
      "id": "LRWJD4zRdPyf",
      "execution_count": null,
      "outputs": []
    },
    {
      "cell_type": "code",
      "source": [
        "# Evaluate the stacked ensemble\n",
        "stacked_preds = []\n",
        "stacked_true = []\n",
        "xgb_test_preds = xgb_model.predict(X_test)\n",
        "rf_test_preds = rf_model.predict(X_test)\n",
        "stacked_input_test = np.column_stack((xgb_test_preds, rf_test_preds))\n",
        "\n",
        "stacked_preds = stacked_model.regressor.predict(stacked_input_test)\n",
        "stacked_true = y_test.values\n"
      ],
      "metadata": {
        "id": "p6sro8B-dWT3"
      },
      "id": "p6sro8B-dWT3",
      "execution_count": null,
      "outputs": []
    },
    {
      "cell_type": "code",
      "source": [
        "stacked_scores = {\n",
        "    \"R2\": r2_score(stacked_true, stacked_preds),\n",
        "    \"MAE\": mean_absolute_error(stacked_true, stacked_preds),\n",
        "    \"MSE\": mean_squared_error(stacked_true, stacked_preds),\n",
        "}\n",
        "print(\"Stacked Ensemble Model Scores:\")\n",
        "print(stacked_scores)"
      ],
      "metadata": {
        "colab": {
          "base_uri": "https://localhost:8080/"
        },
        "id": "BMgSQtaTdaDH",
        "outputId": "9c921942-d426-403b-f8b2-b32546146ee8"
      },
      "id": "BMgSQtaTdaDH",
      "execution_count": null,
      "outputs": [
        {
          "output_type": "stream",
          "name": "stdout",
          "text": [
            "Stacked Ensemble Model Scores:\n",
            "{'R2': 0.9967960448534189, 'MAE': 3330.0184864102903, 'MSE': 23278440.768308595}\n"
          ]
        }
      ]
    },
    {
      "cell_type": "code",
      "source": [
        "# Visualizing predictions vs actual values for Stacked Ensemble model\n",
        "fig=plt.figure(figsize=(11, 6))\n",
        "plt.plot(stacked_true, label='Actual CO2 Emissions', color='blue')\n",
        "plt.plot(stacked_preds, label='Predicted CO2 Emissions (Stacked Ensemble)', color='purple')\n",
        "plt.title('Stacked Ensemble Model - Actual vs Predicted CO2 Emissions (Liquid Fuel Consumption)')\n",
        "plt.xlabel('Samples')\n",
        "plt.ylabel('CO2 Emissions (kt)')\n",
        "plt.legend()\n",
        "plt.grid(True)\n",
        "stacked_base64 = fig_to_base64(fig)\n",
        "plt.show()\n"
      ],
      "metadata": {
        "colab": {
          "base_uri": "https://localhost:8080/",
          "height": 508
        },
        "id": "fKBO5zxygaAb",
        "outputId": "f3b50b6a-3ba6-46d8-9fb3-e99c269d43aa"
      },
      "id": "fKBO5zxygaAb",
      "execution_count": null,
      "outputs": [
        {
          "output_type": "display_data",
          "data": {
            "text/plain": [
              "<Figure size 1100x600 with 1 Axes>"
            ],
            "image/png": "[encoded data removed]"
          },
          "metadata": {}
        }
      ]
    },
    {
      "cell_type": "code",
      "source": [
        "# Accuracy Graph: Comparison of R² Score\n",
        "custom_colors = ['#DE3163', '#CCCCFF', '#6495ED', '#9FE2BF']\n",
        "model_names = ['RNN-Lstm','XGBoost', 'Random Forest', 'Stacked Ensemble']\n",
        "r2_scores = [scores_rnn['R2'],xgb_scores[\"R2\"], rf_scores[\"R2\"], stacked_scores[\"R2\"]]\n",
        "\n",
        "fig=plt.figure(figsize=(8, 5))\n",
        "sns.barplot(x=model_names, y=r2_scores, palette=custom_colors)\n",
        "plt.title('R² Score Comparison Across Models')\n",
        "plt.ylabel('R² Score')\n",
        "com_base64 = fig_to_base64(fig)\n",
        "plt.show()\n"
      ],
      "metadata": {
        "colab": {
          "base_uri": "https://localhost:8080/",
          "height": 609
        },
        "id": "PhREFO_KdwSD",
        "outputId": "c09e3df0-6e3a-445f-aad9-b7ecc5a217b4"
      },
      "id": "PhREFO_KdwSD",
      "execution_count": null,
      "outputs": [
        {
          "output_type": "stream",
          "name": "stderr",
          "text": [
            "<ipython-input-77-c33dfb4d35d5>:7: FutureWarning:\n",
            "\n",
            "\n",
            "\n",
            "Passing `palette` without assigning `hue` is deprecated and will be removed in v0.14.0. Assign the `x` variable to `hue` and set `legend=False` for the same effect.\n",
            "\n",
            "\n"
          ]
        },
        {
          "output_type": "display_data",
          "data": {
            "text/plain": [
              "<Figure size 800x500 with 1 Axes>"
            ],
            "image/png": "[encoded data removed]"
          },
          "metadata": {}
        }
      ]
    },
    {
      "cell_type": "code",
      "source": [
        "# Actual vs Predicted: Stacked Ensemble Model\n",
        "plt.figure(figsize=(8, 6))\n",
        "plt.scatter(stacked_true, stacked_preds, color='purple', alpha=0.6)\n",
        "plt.plot([min(stacked_true), max(stacked_true)], [min(stacked_true), max(stacked_true)], color='black', lw=2, linestyle='--')\n",
        "plt.title('Actual vs Predicted (Stacked Ensemble)')\n",
        "plt.xlabel('Actual CO2 emissions from liquid fuel consumption (kt)')\n",
        "plt.ylabel('Predicted CO2 emissions from liquid fuel consumption (kt)')\n",
        "plt.grid(True)\n",
        "plt.show()"
      ],
      "metadata": {
        "colab": {
          "base_uri": "https://localhost:8080/",
          "height": 564
        },
        "id": "tGoWJKBUeivb",
        "outputId": "7734882e-0726-4ada-fc71-00e096bcb200"
      },
      "id": "tGoWJKBUeivb",
      "execution_count": null,
      "outputs": [
        {
          "output_type": "display_data",
          "data": {
            "text/plain": [
              "<Figure size 800x600 with 1 Axes>"
            ],
            "image/png": "[encoded data removed]"
          },
          "metadata": {}
        }
      ]
    },
    {
      "cell_type": "markdown",
      "source": [
        "# cross validation and learning curve\n"
      ],
      "metadata": {
        "id": "Kp4RiClGEZMe"
      },
      "id": "Kp4RiClGEZMe"
    },
    {
      "cell_type": "code",
      "source": [
        "from sklearn.model_selection import GridSearchCV\n",
        "\n",
        "param_grid = {\n",
        "    'max_depth': [3, 5, 7],\n",
        "    'n_estimators': [50, 100, 200],\n",
        "    'learning_rate': [0.01, 0.1, 0.2]\n",
        "}\n",
        "\n",
        "grid_search = GridSearchCV(XGBRegressor(random_state=0), param_grid, cv=5, scoring='r2')\n",
        "grid_search.fit(X_train, y_train)\n",
        "print(f\"Best parameters for XGBoost: {grid_search.best_params_}\")\n"
      ],
      "metadata": {
        "colab": {
          "base_uri": "https://localhost:8080/"
        },
        "id": "rd15SyNjGkQ1",
        "outputId": "4527a6a6-e297-4f07-90b5-06b0eff5d833"
      },
      "id": "rd15SyNjGkQ1",
      "execution_count": null,
      "outputs": [
        {
          "output_type": "stream",
          "name": "stdout",
          "text": [
            "Best parameters for XGBoost: {'learning_rate': 0.1, 'max_depth': 7, 'n_estimators': 50}\n"
          ]
        }
      ]
    },
    {
      "cell_type": "code",
      "source": [
        "import numpy as np\n",
        "from xgboost import XGBRegressor\n",
        "from sklearn.model_selection import KFold, cross_val_score\n",
        "from sklearn.metrics import r2_score, mean_absolute_error, mean_squared_error\n",
        "\n",
        "# Prepare your features and target\n",
        "# Assuming X and y are defined and your data is already loaded\n",
        "\n",
        "# Initialize the model\n",
        "xgb_model = XGBRegressor(n_estimators=200, max_depth=5, learning_rate=0.1, random_state=0)\n",
        "\n",
        "# Set up K-Fold cross-validation\n",
        "kf = KFold(n_splits=5, shuffle=True, random_state=0)\n",
        "\n",
        "# Perform cross-validation\n",
        "cross_val_r2_scores = cross_val_score(xgb_model, X, y, cv=kf, scoring='r2')\n",
        "\n",
        "# Fit the model on the entire dataset\n",
        "xgb_model.fit(X, y)\n",
        "\n",
        "# Make predictions\n",
        "y_pred = xgb_model.predict(X)\n",
        "\n",
        "# Calculate evaluation metrics\n",
        "xgb_scores = {\n",
        "    \"R2\": r2_score(y, y_pred),\n",
        "    \"MAE\": mean_absolute_error(y, y_pred),\n",
        "    \"MSE\": mean_squared_error(y, y_pred),\n",
        "}\n",
        "\n",
        "print(\"XGBoost Cross-Validation R2 Scores:\", cross_val_r2_scores)\n",
        "print(\"Mean Cross-Validation R2 Score:\", cross_val_r2_scores.mean())\n",
        "print(\"XGBoost Model Scores:\", xgb_scores)\n"
      ],
      "metadata": {
        "colab": {
          "base_uri": "https://localhost:8080/"
        },
        "id": "ZcMaqN2TJOTD",
        "outputId": "aed89c46-eff6-48fb-f29a-89b703937ded"
      },
      "id": "ZcMaqN2TJOTD",
      "execution_count": null,
      "outputs": [
        {
          "output_type": "stream",
          "name": "stdout",
          "text": [
            "XGBoost Cross-Validation R2 Scores: [0.99063155 0.94253554 0.99237744 0.98694709 0.9780921 ]\n",
            "Mean Cross-Validation R2 Score: 0.9781167442476271\n",
            "XGBoost Model Scores: {'R2': 0.9999999979472971, 'MAE': 4.869704671223587, 'MSE': 46.06710829077189}\n"
          ]
        }
      ]
    },
    {
      "cell_type": "code",
      "source": [
        "!pip install dash"
      ],
      "metadata": {
        "colab": {
          "base_uri": "https://localhost:8080/"
        },
        "id": "H6T38mwboPMw",
        "outputId": "24783e5e-3fe7-456c-f436-db58f28b0b15",
        "collapsed": true
      },
      "id": "H6T38mwboPMw",
      "execution_count": null,
      "outputs": [
        {
          "output_type": "stream",
          "name": "stdout",
          "text": [
            "Requirement already satisfied: dash in /usr/local/lib/python3.10/dist-packages (2.18.1)\n",
            "Requirement already satisfied: Flask<3.1,>=1.0.4 in /usr/local/lib/python3.10/dist-packages (from dash) (2.2.5)\n",
            "Requirement already satisfied: Werkzeug<3.1 in /usr/local/lib/python3.10/dist-packages (from dash) (3.0.4)\n",
            "Requirement already satisfied: plotly>=5.0.0 in /usr/local/lib/python3.10/dist-packages (from dash) (5.24.1)\n",
            "Requirement already satisfied: dash-html-components==2.0.0 in /usr/local/lib/python3.10/dist-packages (from dash) (2.0.0)\n",
            "Requirement already satisfied: dash-core-components==2.0.0 in /usr/local/lib/python3.10/dist-packages (from dash) (2.0.0)\n",
            "Requirement already satisfied: dash-table==5.0.0 in /usr/local/lib/python3.10/dist-packages (from dash) (5.0.0)\n",
            "Requirement already satisfied: importlib-metadata in /usr/local/lib/python3.10/dist-packages (from dash) (8.5.0)\n",
            "Requirement already satisfied: typing-extensions>=4.1.1 in /usr/local/lib/python3.10/dist-packages (from dash) (4.12.2)\n",
            "Requirement already satisfied: requests in /usr/local/lib/python3.10/dist-packages (from dash) (2.32.3)\n",
            "Requirement already satisfied: retrying in /usr/local/lib/python3.10/dist-packages (from dash) (1.3.4)\n",
            "Requirement already satisfied: nest-asyncio in /usr/local/lib/python3.10/dist-packages (from dash) (1.6.0)\n",
            "Requirement already satisfied: setuptools in /usr/local/lib/python3.10/dist-packages (from dash) (71.0.4)\n",
            "Requirement already satisfied: Jinja2>=3.0 in /usr/local/lib/python3.10/dist-packages (from Flask<3.1,>=1.0.4->dash) (3.1.4)\n",
            "Requirement already satisfied: itsdangerous>=2.0 in /usr/local/lib/python3.10/dist-packages (from Flask<3.1,>=1.0.4->dash) (2.2.0)\n",
            "Requirement already satisfied: click>=8.0 in /usr/local/lib/python3.10/dist-packages (from Flask<3.1,>=1.0.4->dash) (8.1.7)\n",
            "Requirement already satisfied: tenacity>=6.2.0 in /usr/local/lib/python3.10/dist-packages (from plotly>=5.0.0->dash) (9.0.0)\n",
            "Requirement already satisfied: packaging in /usr/local/lib/python3.10/dist-packages (from plotly>=5.0.0->dash) (24.1)\n",
            "Requirement already satisfied: MarkupSafe>=2.1.1 in /usr/local/lib/python3.10/dist-packages (from Werkzeug<3.1->dash) (2.1.5)\n",
            "Requirement already satisfied: zipp>=3.20 in /usr/local/lib/python3.10/dist-packages (from importlib-metadata->dash) (3.20.2)\n",
            "Requirement already satisfied: charset-normalizer<4,>=2 in /usr/local/lib/python3.10/dist-packages (from requests->dash) (3.3.2)\n",
            "Requirement already satisfied: idna<4,>=2.5 in /usr/local/lib/python3.10/dist-packages (from requests->dash) (3.10)\n",
            "Requirement already satisfied: urllib3<3,>=1.21.1 in /usr/local/lib/python3.10/dist-packages (from requests->dash) (2.2.3)\n",
            "Requirement already satisfied: certifi>=2017.4.17 in /usr/local/lib/python3.10/dist-packages (from requests->dash) (2024.8.30)\n",
            "Requirement already satisfied: six>=1.7.0 in /usr/local/lib/python3.10/dist-packages (from retrying->dash) (1.16.0)\n"
          ]
        }
      ]
    },
    {
      "cell_type": "code",
      "source": [
        "!pip install dash_bootstrap_components"
      ],
      "metadata": {
        "colab": {
          "base_uri": "https://localhost:8080/"
        },
        "id": "day12jSuobbs",
        "outputId": "74fa561b-3d36-4eed-f97c-aebdf600fe6b",
        "collapsed": true
      },
      "id": "day12jSuobbs",
      "execution_count": null,
      "outputs": [
        {
          "output_type": "stream",
          "name": "stdout",
          "text": [
            "Collecting dash_bootstrap_components\n",
            "  Downloading dash_bootstrap_components-1.6.0-py3-none-any.whl.metadata (5.2 kB)\n",
            "Requirement already satisfied: dash>=2.0.0 in /usr/local/lib/python3.10/dist-packages (from dash_bootstrap_components) (2.18.1)\n",
            "Requirement already satisfied: Flask<3.1,>=1.0.4 in /usr/local/lib/python3.10/dist-packages (from dash>=2.0.0->dash_bootstrap_components) (2.2.5)\n",
            "Requirement already satisfied: Werkzeug<3.1 in /usr/local/lib/python3.10/dist-packages (from dash>=2.0.0->dash_bootstrap_components) (3.0.4)\n",
            "Requirement already satisfied: plotly>=5.0.0 in /usr/local/lib/python3.10/dist-packages (from dash>=2.0.0->dash_bootstrap_components) (5.24.1)\n",
            "Requirement already satisfied: dash-html-components==2.0.0 in /usr/local/lib/python3.10/dist-packages (from dash>=2.0.0->dash_bootstrap_components) (2.0.0)\n",
            "Requirement already satisfied: dash-core-components==2.0.0 in /usr/local/lib/python3.10/dist-packages (from dash>=2.0.0->dash_bootstrap_components) (2.0.0)\n",
            "Requirement already satisfied: dash-table==5.0.0 in /usr/local/lib/python3.10/dist-packages (from dash>=2.0.0->dash_bootstrap_components) (5.0.0)\n",
            "Requirement already satisfied: importlib-metadata in /usr/local/lib/python3.10/dist-packages (from dash>=2.0.0->dash_bootstrap_components) (8.5.0)\n",
            "Requirement already satisfied: typing-extensions>=4.1.1 in /usr/local/lib/python3.10/dist-packages (from dash>=2.0.0->dash_bootstrap_components) (4.12.2)\n",
            "Requirement already satisfied: requests in /usr/local/lib/python3.10/dist-packages (from dash>=2.0.0->dash_bootstrap_components) (2.32.3)\n",
            "Requirement already satisfied: retrying in /usr/local/lib/python3.10/dist-packages (from dash>=2.0.0->dash_bootstrap_components) (1.3.4)\n",
            "Requirement already satisfied: nest-asyncio in /usr/local/lib/python3.10/dist-packages (from dash>=2.0.0->dash_bootstrap_components) (1.6.0)\n",
            "Requirement already satisfied: setuptools in /usr/local/lib/python3.10/dist-packages (from dash>=2.0.0->dash_bootstrap_components) (71.0.4)\n",
            "Requirement already satisfied: Jinja2>=3.0 in /usr/local/lib/python3.10/dist-packages (from Flask<3.1,>=1.0.4->dash>=2.0.0->dash_bootstrap_components) (3.1.4)\n",
            "Requirement already satisfied: itsdangerous>=2.0 in /usr/local/lib/python3.10/dist-packages (from Flask<3.1,>=1.0.4->dash>=2.0.0->dash_bootstrap_components) (2.2.0)\n",
            "Requirement already satisfied: click>=8.0 in /usr/local/lib/python3.10/dist-packages (from Flask<3.1,>=1.0.4->dash>=2.0.0->dash_bootstrap_components) (8.1.7)\n",
            "Requirement already satisfied: tenacity>=6.2.0 in /usr/local/lib/python3.10/dist-packages (from plotly>=5.0.0->dash>=2.0.0->dash_bootstrap_components) (9.0.0)\n",
            "Requirement already satisfied: packaging in /usr/local/lib/python3.10/dist-packages (from plotly>=5.0.0->dash>=2.0.0->dash_bootstrap_components) (24.1)\n",
            "Requirement already satisfied: MarkupSafe>=2.1.1 in /usr/local/lib/python3.10/dist-packages (from Werkzeug<3.1->dash>=2.0.0->dash_bootstrap_components) (2.1.5)\n",
            "Requirement already satisfied: zipp>=3.20 in /usr/local/lib/python3.10/dist-packages (from importlib-metadata->dash>=2.0.0->dash_bootstrap_components) (3.20.2)\n",
            "Requirement already satisfied: charset-normalizer<4,>=2 in /usr/local/lib/python3.10/dist-packages (from requests->dash>=2.0.0->dash_bootstrap_components) (3.3.2)\n",
            "Requirement already satisfied: idna<4,>=2.5 in /usr/local/lib/python3.10/dist-packages (from requests->dash>=2.0.0->dash_bootstrap_components) (3.10)\n",
            "Requirement already satisfied: urllib3<3,>=1.21.1 in /usr/local/lib/python3.10/dist-packages (from requests->dash>=2.0.0->dash_bootstrap_components) (2.2.3)\n",
            "Requirement already satisfied: certifi>=2017.4.17 in /usr/local/lib/python3.10/dist-packages (from requests->dash>=2.0.0->dash_bootstrap_components) (2024.8.30)\n",
            "Requirement already satisfied: six>=1.7.0 in /usr/local/lib/python3.10/dist-packages (from retrying->dash>=2.0.0->dash_bootstrap_components) (1.16.0)\n",
            "Downloading dash_bootstrap_components-1.6.0-py3-none-any.whl (222 kB)\n",
            "\u001b[2K   \u001b[90m━━━━━━━━━━━━━━━━━━━━━━━━━━━━━━━━━━━━━━━━\u001b[0m \u001b[32m222.5/222.5 kB\u001b[0m \u001b[31m1.6 MB/s\u001b[0m eta \u001b[36m0:00:00\u001b[0m\n",
            "\u001b[?25hInstalling collected packages: dash_bootstrap_components\n",
            "Successfully installed dash_bootstrap_components-1.6.0\n"
          ]
        }
      ]
    },
    {
      "cell_type": "code",
      "source": [
        "# Dashboard\n",
        "import dash\n",
        "from dash import dash_table\n",
        "import dash_bootstrap_components as dbc\n",
        "from dash import dcc,html\n",
        "from dash.dependencies import Input, Output, State\n",
        "import plotly.express as px\n",
        "import plotly.graph_objects as go\n",
        "import plotly.tools as tls\n",
        "app = dash.Dash(external_stylesheets=[dbc.themes.QUARTZ])\n",
        "SIDEBAR_STYLE = {\n",
        "    \"position\": \"fixed\",\n",
        "    \"top\": 0,\n",
        "    \"left\": 0,\n",
        "    \"bottom\": 0,\n",
        "    \"width\": \"16rem\",\n",
        "    \"padding\": \"2rem 1rem\",\n",
        "    \"background-color\": \"#36454F\",\n",
        "}\n",
        "\n",
        "CONTENT_STYLE = {\n",
        "    \"margin-left\": \"18rem\",\n",
        "    \"margin-right\": \"2rem\",\n",
        "    \"padding\": \"2rem 1rem\",\n",
        "}\n",
        "#nav links\n",
        "sidebar = html.Div(\n",
        "    [\n",
        "        html.H4(\"INDEX\", className=\"display-8\", ),\n",
        "        dbc.Button(\n",
        "         \"click to check co2 levels!\",\n",
        "        className=\"btn btn-primary\",\n",
        "        href=\"#9\",\n",
        "        external_link=True ),\n",
        "        dbc.Nav(\n",
        "            [\n",
        "                dbc.NavLink(\"Data Overview\", href=\"#0\", external_link=True),\n",
        "                dbc.NavLink(\"Training the RNN-LSTM Model\", href=\"#4\",external_link=True),\n",
        "                dbc.NavLink(\"XGBoost model results\", href=\"#5\",external_link=True),\n",
        "                dbc.NavLink(\"Random Forest classifier results\", href=\"#6\",external_link=True),\n",
        "                dbc.NavLink(\"Stacked ensemble\", href=\"#7\",external_link=True),\n",
        "                dbc.NavLink(\"Comparison of all models\", href=\"#8\",external_link=True),\n",
        "\n",
        "            ],\n",
        "            vertical=True,\n",
        "            pills=True,\n",
        "        ),\n",
        "    ],\n",
        "    style=SIDEBAR_STYLE,\n",
        ")\n",
        "\n",
        "\n",
        "\n",
        "# content area\n",
        "content = html.Div(\n",
        "            html.Div( [html.H1(\"CO2 EMISSION PREDICTOR\", style={\n",
        "                        \"top\": \"0\",\n",
        "                        \"backgroundColor\": \"black\",\n",
        "                          \"textAlign\": \"center\"\n",
        "                    })]+[html.Br()]*5+\n",
        "                            [html.H2(\"DATA OVERVIEW\",id=\"0\")]+\n",
        "                            [\n",
        "                              dash_table.DataTable(data=data.to_dict('records'),\n",
        "                                 columns=[{'id': c, 'name': c} for c in data.columns],\n",
        "                                style_table={'overflowX': 'auto'},\n",
        "                                style_cell={'height': 'auto','minWidth': '180px', 'width': '180px', 'maxWidth': '180px',\n",
        "                                'whiteSpace': 'normal'} ,\n",
        "                                 page_size=10,style_header={ 'backgroundColor': '#36454F','fontWeight': 'bold'},\n",
        "                                 style_data={'backgroundColor': 'rgb(50, 50, 50)'})]+\n",
        "                       [html.Img(src='data:image/png;base64,{}'.format(histograms_base64),style={'width':'100%','height':'auto%','display':'block','margin':'0 auto}'})]+   [html.Br()]*3+\n",
        "\n",
        "\n",
        "                            [html.H2(\"TRAINING THE RNN-LSTM MODEL\",id=\"4\")]+\n",
        "                            [html.Img(src='data:image/png;base64,{}'.format(rnn_base64),style={'width':'100%','height':'auto%','display':'block','margin':'0 auto}'})]+\n",
        "                      [html.H2(\"XGBOOST MODEL RESULTS\",id=\"5\")]+\n",
        "                      [html.Img(src='data:image/png;base64,{}'.format(xgb_base64),style={'width':'100%','height':'auto%','display':'block','margin':'0 auto'})]+\n",
        "                      [html.H2(\"RANDOM FOREST CLASSIFIER RESULTS\",id=\"6\")]+\n",
        "                      [html.Img(src='data:image/png;base64,{}'.format(rf_base64),style={'width':'100%','height':'auto%','display':'block','margin':'0 auto'})]+\n",
        "                      [html.H2(\"STACKED ENSEMBLE\",id=\"7\")]+\n",
        "                      [html.Img(src='data:image/png;base64,{}'.format(stacked_base64),style={'width':'100%','height':'auto%','display':'block','margin':'0 auto'})]+\n",
        "                      [html.H2(\"COMPARISON OF ALL MODELS\",id=\"8\")]+\n",
        "                      [html.Img(src='data:image/png;base64,{}'.format(com_base64),style={'width':'100%','height':'auto%','display':'block','margin':'0 auto'})]\n",
        "\n",
        "    ), id=\"page-content\", style=CONTENT_STYLE)\n",
        "\n",
        "app.layout=html.Div([sidebar,content])\n",
        "\n",
        "\n",
        "\n",
        "if __name__ == '__main__':\n",
        "    app.run()\n"
      ],
      "metadata": {
        "colab": {
          "base_uri": "https://localhost:8080/",
          "height": 671
        },
        "id": "_PzvQhovJ_TF",
        "outputId": "6b27d2c4-11cf-4fea-9271-59ef97b97c3e"
      },
      "execution_count": null,
      "outputs": [
        {
          "output_type": "display_data",
          "data": {
            "text/plain": [
              "<IPython.core.display.Javascript object>"
            ],
            "application/javascript": [
              "(async (port, path, width, height, cache, element) => {\n",
              "    if (!google.colab.kernel.accessAllowed && !cache) {\n",
              "      return;\n",
              "    }\n",
              "    element.appendChild(document.createTextNode(''));\n",
              "    const url = await google.colab.kernel.proxyPort(port, {cache});\n",
              "    const iframe = document.createElement('iframe');\n",
              "    iframe.src = new URL(path, url).toString();\n",
              "    iframe.height = height;\n",
              "    iframe.width = width;\n",
              "    iframe.style.border = 0;\n",
              "    iframe.allow = [\n",
              "        'accelerometer',\n",
              "        'autoplay',\n",
              "        'camera',\n",
              "        'clipboard-read',\n",
              "        'clipboard-write',\n",
              "        'gyroscope',\n",
              "        'magnetometer',\n",
              "        'microphone',\n",
              "        'serial',\n",
              "        'usb',\n",
              "        'xr-spatial-tracking',\n",
              "    ].join('; ');\n",
              "    element.appendChild(iframe);\n",
              "  })(8050, \"/\", \"100%\", 650, false, window.element)"
            ]
          },
          "metadata": {}
        }
      ],
      "id": "_PzvQhovJ_TF"
    }
  ],
  "metadata": {
    "kaggle": {
      "accelerator": "none",
      "dataSources": [
        {
          "datasetId": 4396234,
          "sourceId": 7548592,
          "sourceType": "datasetVersion"
        }
      ],
      "dockerImageVersionId": 30646,
      "isGpuEnabled": false,
      "isInternetEnabled": true,
      "language": "python",
      "sourceType": "notebook"
    },
    "kernelspec": {
      "display_name": "Python 3",
      "language": "python",
      "name": "python3"
    },
    "language_info": {
      "codemirror_mode": {
        "name": "ipython",
        "version": 3
      },
      "file_extension": ".py",
      "mimetype": "text/x-python",
      "name": "python",
      "nbconvert_exporter": "python",
      "pygments_lexer": "ipython3",
      "version": "3.10.13"
    },
    "papermill": {
      "default_parameters": {},
      "duration": 24.315286,
      "end_time": "2024-02-03T23:34:38.000527",
      "environment_variables": {},
      "exception": null,
      "input_path": "__notebook__.ipynb",
      "output_path": "__notebook__.ipynb",
      "parameters": {},
      "start_time": "2024-02-03T23:34:13.685241",
      "version": "2.5.0"
    },
    "colab": {
      "provenance": [],
      "toc_visible": true
    }
  },
  "nbformat": 4,
  "nbformat_minor": 5
}